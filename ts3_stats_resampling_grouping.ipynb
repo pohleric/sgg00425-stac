{
 "cells": [
  {
   "cell_type": "markdown",
   "id": "eb6651b9-3598-40c8-8ec4-4565e82fd01d",
   "metadata": {},
   "source": [
    "# TS-3: Spatial/temporal averaging, Resampling, Variability and Grouping\n",
    "\n",
    "This notebook explains four types of analysis:\n",
    "\n",
    "* Using functions like `mean()` to remove the <a href=\"#basic_time\">temporal</a> or <a href=\"#basic_space\">spatial</a> dimension.\n",
    "* <a href=\"#resampling\">Resampling</a> from one time frequency to another, e.g. to calculate annual means.\n",
    "* Thinking about <a href=\"#variability\">variability</a>: using the standard deviation and deviation from the mean.\n",
    "* Using <a href=\"#repeating\">group-by</a> to analyze features that repeat over time.\n",
    "\n",
    "All of these analyses rely on a set of operations to combine the data. Below we mainly use `mean()`. Depending on the type of data and your research question, there are plenty of alternatives which you can use instead of `mean()`:\n",
    "\n",
    "* `median()`\n",
    "* `std()` (standard deviation)\n",
    "* `min()` / `max()` (minimum or maximum value)\n",
    "* `sum()` (the total of all values)\n",
    "* `first()` / `last()` (the first or last value in the group of values under consideration)\n",
    "\n",
    "See here for more background information: https://docs.xarray.dev/en/stable/user-guide/time-series.html#resampling-and-grouped-operations\n",
    "\n",
    "Xarray's time-series functionality is based on the the Pandas package. See also the Pandas documentation for lots of information on working with time-series data: https://pandas.pydata.org/pandas-docs/stable/user_guide/timeseries.html\n",
    "\n",
    "***"
   ]
  },
  {
   "cell_type": "code",
   "execution_count": null,
   "id": "3b8efac1-bfdc-4edd-85d2-ce43c1421527",
   "metadata": {},
   "outputs": [],
   "source": [
    "%%html\n",
    "<style>\n",
    "    .dothis{\n",
    "    font-weight: bold;\n",
    "    color: #ff7f0e;\n",
    "    font-size:large\n",
    "    }\n",
    "</style>"
   ]
  },
  {
   "cell_type": "code",
   "execution_count": null,
   "id": "fecf38fb-2da8-4285-be0a-a1a5746e6a8a",
   "metadata": {},
   "outputs": [],
   "source": [
    "# Import modules\n",
    "\n",
    "# reload module before executing code\n",
    "%load_ext autoreload\n",
    "%autoreload 2\n",
    "\n",
    "# define modules locations (you might have to adapt define_mod_locs.py)\n",
    "# %run ../sdc-notebooks/Tools/define_mod_locs.py\n",
    "\n",
    "import os\n",
    "import shutil\n",
    "import xarray as xr\n",
    "import numpy as np\n",
    "from datetime import datetime\n",
    "import matplotlib.pyplot as plt\n",
    "from matplotlib.pyplot import cm\n",
    "from matplotlib.patches import Polygon, Rectangle\n",
    "from sdc_utilities import *\n",
    "\n",
    "# silence warning (not recommended during development)\n",
    "import warnings\n",
    "warnings.filterwarnings(\"ignore\")"
   ]
  },
  {
   "cell_type": "code",
   "execution_count": null,
   "id": "ffcb7820-9fab-4dc1-865a-a3f44913a5e0",
   "metadata": {},
   "outputs": [],
   "source": [
    "# Especially for the beamer, we're going to use seaborn to make the figure text bigger.\n",
    "import seaborn as sns\n",
    "sns.set_context('talk')\n",
    "plt.rcParams['figure.figsize'] = (16,8)       # this line changes the size of the figures displayed in the notebooks"
   ]
  },
  {
   "cell_type": "markdown",
   "id": "43fa052a-a4b3-454b-bbec-ea6c198ce206",
   "metadata": {},
   "source": [
    "<hr style=\"border-top:8px solid black\" />\n",
    "\n",
    "## *Preparing/downloading our data*\n",
    "\n",
    "We will use a pre-prepared small data subset around Fribourg which we extracted from the Swiss Data Cube for you earlier. It is located in the `data/` folder.\n",
    "\n",
    "<span style=\"color:gray; font-style:italic\">We made this data subset using `ts1_data_preparation.ipynb`. You will find this approach useful when doing your project work.</span>"
   ]
  },
  {
   "cell_type": "code",
   "execution_count": null,
   "id": "6338aa3b-57ae-4462-a976-31d670c24f29",
   "metadata": {},
   "outputs": [],
   "source": [
    "nc_filename = \"data/landsat_ot_c2_l2_fribourg_example.nc\""
   ]
  },
  {
   "cell_type": "code",
   "execution_count": null,
   "id": "fe675a62-003c-4a5f-aa1b-86c457b3dd8e",
   "metadata": {},
   "outputs": [],
   "source": [
    "# Open the prepared Landsat 8 subset for the Fribourg region \n",
    "ds = xr.open_dataset(nc_filename, engine='netcdf4')"
   ]
  },
  {
   "cell_type": "code",
   "execution_count": null,
   "id": "8bc7c7d5-9411-432c-b1b3-652b5a0feac6",
   "metadata": {},
   "outputs": [],
   "source": [
    "# ds - the dataset\n",
    "ds"
   ]
  },
  {
   "cell_type": "code",
   "execution_count": null,
   "id": "b7435abc-f38e-4cc2-bb84-2979adf38428",
   "metadata": {},
   "outputs": [],
   "source": [
    "# Create a 'shortcut' variable so that we can work with NDVI directly.\n",
    "ndvi = ds.ndvi\n",
    "ndvi"
   ]
  },
  {
   "cell_type": "markdown",
   "id": "a764a3cf-a954-4189-b3c8-714ac44c682c",
   "metadata": {},
   "source": [
    "<a name=\"basic_time\"></a>\n",
    "<hr style=\"border-top:8px solid black\" />\n",
    "\n",
    "## Mean of an area through time\n",
    "\n",
    "Let's have a bit of a reminder about reducing on space or time, to remind ourselves about what we learned in **Time Series 2: Selecting and Saving**.\n",
    "\n",
    "Here, we take the average (mean) of all pixels in our cube. This removes the spatial coordinates, leaving us with just the temporal coordinate."
   ]
  },
  {
   "cell_type": "code",
   "execution_count": null,
   "id": "3bb1b374-b901-486c-9259-0b90e91632b9",
   "metadata": {},
   "outputs": [],
   "source": [
    "mean_thru_time = ndvi.mean(dim=('x', 'y'))\n",
    "mean_thru_time"
   ]
  },
  {
   "cell_type": "code",
   "execution_count": null,
   "id": "636490b8-0e9e-4663-81c0-9d8b89900ad3",
   "metadata": {},
   "outputs": [],
   "source": [
    "mean_thru_time.plot()"
   ]
  },
  {
   "cell_type": "markdown",
   "id": "ab282922-f1ea-4dac-ba65-64cb540baa19",
   "metadata": {},
   "source": [
    "As an example of another operation, we could take the standard deviation instead:"
   ]
  },
  {
   "cell_type": "code",
   "execution_count": null,
   "id": "277abdaa-d109-4c5f-a501-95f8086dc1e1",
   "metadata": {},
   "outputs": [],
   "source": [
    "ndvi.std(dim=('x', 'y')).plot()"
   ]
  },
  {
   "cell_type": "markdown",
   "id": "62fc38e0-aa8f-4063-9cf4-bdcc9689934d",
   "metadata": {},
   "source": [
    "<a name=\"basic_space\"></a>\n",
    "<hr style=\"border-top:8px solid black\" />\n",
    "\n",
    "## Mean of each pixel in a cube\n",
    "\n",
    "We can remove the time coordinate by applying an operation like `mean()` over it. This leaves us with a single map of our spatial area."
   ]
  },
  {
   "cell_type": "code",
   "execution_count": null,
   "id": "feab0936-88ea-48d6-9164-7bb132d7743d",
   "metadata": {},
   "outputs": [],
   "source": [
    "mean_each_px = ndvi.mean(dim='time')\n",
    "mean_each_px"
   ]
  },
  {
   "cell_type": "code",
   "execution_count": null,
   "id": "9b41f25d-9d2c-4f49-a074-61e2d3300be0",
   "metadata": {},
   "outputs": [],
   "source": [
    "mean_each_px.plot(vmin=0, vmax=1, cmap='Greens')"
   ]
  },
  {
   "cell_type": "markdown",
   "id": "ef9cd2ec-ebc8-4c90-aca1-2d69cc68b7b5",
   "metadata": {},
   "source": [
    "Just like with time, we could also compute a different statistic such as the median:"
   ]
  },
  {
   "cell_type": "code",
   "execution_count": null,
   "id": "f956740a-2417-4007-af00-3012235b64a9",
   "metadata": {},
   "outputs": [],
   "source": [
    "ndvi.median(dim='time').plot(vmin=0, vmax=1, cmap='Greens')"
   ]
  },
  {
   "cell_type": "markdown",
   "id": "53a2ab96-5380-4b06-b861-a0914be7a6ef",
   "metadata": {},
   "source": [
    "<a name=\"resampling\"></a>\n",
    "<hr style=\"border-top:8px solid black\" />\n",
    "\n",
    "## Resampling\n",
    "\n",
    "We use `.resample()` to change the frequency of the time axis to e.g. monthly or annual.\n",
    "\n",
    "The `resample()` operation takes the argument/keyword `time=(Frequency)`. Replace `(Frequency)` with your desired frequency. Popular examples include:\n",
    "\n",
    "* `A` or `Y` - annual (i.e. yearly) frequency.\n",
    "* `Q` - quarterly frequency.\n",
    "* `M` - monthly frequency.\n",
    "* `D` - daily frequency.\n",
    "\n",
    "Background information: https://pandas.pydata.org/pandas-docs/stable/user_guide/timeseries.html#resampling"
   ]
  },
  {
   "cell_type": "code",
   "execution_count": null,
   "id": "34f8999c-3f09-4a41-95cc-9a174172405d",
   "metadata": {},
   "outputs": [],
   "source": [
    "# Again, we first need to make a spatial average\n",
    "mean_thru_time = ndvi.mean(dim=('x', 'y'))"
   ]
  },
  {
   "cell_type": "code",
   "execution_count": null,
   "id": "f74f6371-dd96-4661-a738-8d99225acabc",
   "metadata": {},
   "outputs": [],
   "source": [
    "mean_thru_time.plot()"
   ]
  },
  {
   "cell_type": "markdown",
   "id": "564444c2-e8f2-4658-b522-3994a21c67fd",
   "metadata": {},
   "source": [
    "Now we make the annual time series. `A` stands for *Annual* and `S` stands for *start*. The `S` means that the time coordinates which are created correspond to the start of each period, e.g. 2019-01-01. Without the `S`, the coordinates would correspond to the end of each period, e.g. 2019-12-31, which sometimes makes interpreting graphs a bit tricky. There's an example of this in a moment."
   ]
  },
  {
   "cell_type": "code",
   "execution_count": null,
   "id": "cd32effa-734e-4336-b3df-eeb4dc89b34e",
   "metadata": {},
   "outputs": [],
   "source": [
    "annual_ndvi = mean_thru_time.resample(time='AS').mean()"
   ]
  },
  {
   "cell_type": "code",
   "execution_count": null,
   "id": "d1564ff3-c3a2-4d4f-9044-81261d090f1f",
   "metadata": {},
   "outputs": [],
   "source": [
    "annual_ndvi"
   ]
  },
  {
   "cell_type": "code",
   "execution_count": null,
   "id": "9e615549-9cc6-4ec4-81d3-945d30bfc12d",
   "metadata": {},
   "outputs": [],
   "source": [
    "annual_ndvi.plot(marker='o')"
   ]
  },
  {
   "cell_type": "markdown",
   "id": "7dd4fa70-e6e4-460a-8b86-21e638b99529",
   "metadata": {},
   "source": [
    "If we look at this graph, we can see that the value for 2019 is about 0.56. This is correct, let's look at both the resampled series again to make sure:"
   ]
  },
  {
   "cell_type": "code",
   "execution_count": null,
   "id": "86645515-42e1-42ea-955f-26a2cb191bdf",
   "metadata": {},
   "outputs": [],
   "source": [
    "annual_ndvi.sel(time='2019')"
   ]
  },
  {
   "cell_type": "markdown",
   "id": "b38c6dae-9554-4f97-a618-55ca98d91444",
   "metadata": {},
   "source": [
    "In contrast, if we didn't use the `S` letter in our `resample()` command then the time for 2019 would be 2019-12-31:"
   ]
  },
  {
   "cell_type": "code",
   "execution_count": null,
   "id": "9a590a63-12bb-45d9-a6e8-db0f71acb70b",
   "metadata": {},
   "outputs": [],
   "source": [
    "annual_ndvi_endyear = mean_thru_time.resample(time='A').mean()\n",
    "annual_ndvi_endyear.sel(time='2019')"
   ]
  },
  {
   "cell_type": "markdown",
   "id": "2fcad7c6-aeae-4a50-bf37-1d56a9db272c",
   "metadata": {},
   "source": [
    "Looks OK so far. But when we plot a graph of this, we can see that the 2019 value appears to have been plotted in 2020 - this is because it has been placed at 2019-12-31:"
   ]
  },
  {
   "cell_type": "code",
   "execution_count": null,
   "id": "a700d9b3-6c1e-4258-9da4-f35d1238cf2c",
   "metadata": {},
   "outputs": [],
   "source": [
    "annual_ndvi_endyear.plot(marker='o')"
   ]
  },
  {
   "cell_type": "markdown",
   "id": "cdd77b0c-5ece-4dc3-844a-8c2f9637050f",
   "metadata": {},
   "source": [
    "<a name=\"variability\"></a>\n",
    "<hr style=\"border-top: 8px solid black\" />\n",
    "\n",
    "## Variability\n",
    "\n",
    "Variability refers to how much a variable like NDVI changes in general, as compared to how much the values change systematically over time (--> trends/tendencies). The monthly example from before shows no statistically significant trend ($p > \\alpha$). But we see that the values change a lot. Some example for high variability can be different crops on the fields that result in differentt NDVI values, different precipitation patterns in combination with temperature that lead to variable snow cover, etc.\n",
    "\n",
    "A common statistic to describe variability is the sample **standard deviation**. \n",
    "\n",
    "\n",
    "$s = \\sqrt\\frac{\\sum{(x_i-\\bar{x})^2}}{n-1}$\n",
    "\n",
    "The standard deviation has the same unit as the data in the time series. It makes it therefore more intuitive to use it instead of the ***variance***.\n",
    "\n",
    "\n",
    "Another useful way to investigate variability is by looking at the **deviation from the mean**, sometimes called anomalies. Instead of calculating a single statistic over all time steps, one derives for each time step a value.\n",
    "\n",
    "\n",
    "### Standard deviation\n",
    "\n",
    "One can directly calculate the standard deviation for each pixel by calling the function `.std('time')`, indicating that it should be applied over the **time** dimension.\n",
    "\n",
    "The following example shows directly the difference between the urban and the rural area in terms of NDVI variability. Crops fields can easily be identified where the variability is especially high.\n"
   ]
  },
  {
   "cell_type": "code",
   "execution_count": null,
   "id": "db2ec931-70fd-4dff-bebb-a0991979d790",
   "metadata": {},
   "outputs": [],
   "source": [
    "ndvi.std('time').plot.imshow()"
   ]
  },
  {
   "cell_type": "code",
   "execution_count": null,
   "id": "e67abc1c-db21-4604-bf68-cf04c54783ab",
   "metadata": {},
   "outputs": [],
   "source": [
    "# The same example but only for the month of August\n",
    "ndvi.sel(time=ndvi.time.dt.month==8).std('time').plot.imshow()"
   ]
  },
  {
   "cell_type": "markdown",
   "id": "b4e2bdf0-6bff-4d03-8033-b3ed09c6e52a",
   "metadata": {},
   "source": [
    "### Deviation from the mean\n",
    "As the name says, we have to calculate the mean first and subtract this value from each individual NDVI value. If there is a strong seasonality, we have to think of which mean we calculate (monthly, annual, ...), and of which data we subtract this mean (also monthly, annual, ...).\n",
    "\n"
   ]
  },
  {
   "cell_type": "code",
   "execution_count": null,
   "id": "c0994380-6f4b-46a4-89b4-506b12df628e",
   "metadata": {},
   "outputs": [],
   "source": [
    "da_annual_mean = ndvi.mean('time')\n",
    "da_annual = ndvi.resample(time='AS').mean()\n",
    "da_dev_from_mean = da_annual - da_annual_mean\n",
    "\n",
    "# plot the time series for a pixel:\n",
    "da_dev_from_mean_pixel = da_dev_from_mean.sel(x=2580000, y=1181500, method='nearest')\n",
    "\n",
    "da_dev_from_mean_pixel.plot.line('ko-')\n",
    "plt.hlines(y= da_dev_from_mean_pixel.mean(), \n",
    "           xmin=da_dev_from_mean_pixel.time[0], \n",
    "           xmax=da_dev_from_mean_pixel.time[-1])\n"
   ]
  },
  {
   "cell_type": "code",
   "execution_count": null,
   "id": "8be39ccd-256b-45ba-89a7-798aec3f720b",
   "metadata": {},
   "outputs": [],
   "source": [
    "# plot the deviation from the mean for the year 2018 - as a map\n",
    "# da_dev_from_mean.sel(time=da_dev_from_mean.time.dt.year==2018)[0].plot.imshow()\n",
    "da_dev_from_mean.sel(time=da_dev_from_mean.time.dt.year==2018).mean(dim='time').plot.imshow()\n"
   ]
  },
  {
   "cell_type": "markdown",
   "id": "dee36bcb-6e51-4748-b553-7698e4f2bc67",
   "metadata": {},
   "source": [
    "### Showcasing variability in line plots\n",
    "\n",
    "When plotting mean values, e.g. extracted for a point or area, the line graph does not show how variable the mean is. This might be important information because the values around the mean might vary strongly.\n",
    "\n",
    "A good way to include such information in a plot is by adding the standard deviation or percentiles as `error bars` or `boundary polygon` to the plot.\n",
    "\n",
    "The next cell shows again the mean value, but this time with error bars (note error bars is just how the figure features are called; they do not neccessarily represent a real **error**).\n",
    " "
   ]
  },
  {
   "cell_type": "code",
   "execution_count": null,
   "id": "4c5261ad-2f6f-4408-8ce4-bb82ad286b72",
   "metadata": {},
   "outputs": [],
   "source": [
    "# Full example plotting mean, annual, values of a specified bounding box with standard deviation of the annual values as error bars\n",
    "\n",
    "# a point in the middle of the study area\n",
    "point_x = 2580000\n",
    "point_y = 1181500\n",
    "\n",
    "# bounding box 2 x 2 km around the chosen pixel (point_x, point_y)\n",
    "x_coords = slice(point_x-1000, point_x+1000)\n",
    "y_coords = slice(point_y+1000, point_y-1000)\n",
    "\n",
    "# making the spatial subset (according to bounding box)\n",
    "subset_spatial = ndvi.sel(y=y_coords, x=x_coords)\n",
    "\n",
    "# averaging over time (resample) and then taking mean and STD (over all pixels for each annual time step)\n",
    "ts_mean = subset_spatial.resample(time='AS').mean(dim=('time','x','y'))\n",
    "ts_std1 = subset_spatial.resample(time='AS').std(dim=('time','x','y'))\n",
    "\n",
    "# to pandas:\n",
    "ts_mean_pd = ts_mean.to_pandas()\n",
    "ts_std1_pd = ts_std1.to_pandas()\n",
    "\n"
   ]
  },
  {
   "cell_type": "code",
   "execution_count": null,
   "id": "acd5bd12-8a72-402a-a2eb-c084e02a546d",
   "metadata": {},
   "outputs": [],
   "source": [
    "# The actual plot\n",
    "ts_mean_pd.plot(yerr=ts_std1_pd,\n",
    "                     fmt='o',\n",
    "                     linestyle='--',\n",
    "                     capsize=5,\n",
    "                     ylim=(0, 0.5),\n",
    "                     xlim=('2012','2022'),\n",
    "                     xlabel='Time',\n",
    "                     ylabel='NDVI [-]',\n",
    "                     legend=False)\n"
   ]
  },
  {
   "cell_type": "markdown",
   "id": "7958a900-1024-4d79-87fd-715a24b38143",
   "metadata": {},
   "source": [
    "<a name=\"repeating\"></a>\n",
    "<hr style=\"border-top:8px solid black\" />\n",
    "\n",
    "## Features which repeat (e.g. annual cycles)\n",
    "\n",
    "We can use the `.groupby()` function to group our data by a repeating feature. Here, we're often particularly interested in calculating statistics for each month of the calendar over a period of several years.\n",
    "\n",
    "The following figure (also in your `data/` folder (`groupby_example2_cropped.png`) shows an overview of how `.groupby()` works (large version: groupby_example2_cropped.png):\n",
    "\n",
    "\n",
    "- <span style=\"color:darkblue\">**Data**</span>\n",
    "    - an example of an xarray or DataFrame with different columns\n",
    "- <span style=\"color:darkgreen\">**Selection**</span>\n",
    "    - a pre-selection example to select two years\n",
    "- <span style=\"color:darkred\">**Aggregation (the actual `.groupby()` part)**</span>\n",
    "    - groupby based on the different categories (columns) that allow grouping in different ways\n",
    "- <span style=\"color:purple\">**Process**</span>\n",
    "    - examples on what function can be applied finally\n",
    "\n",
    "\n",
    "\n",
    "\n",
    "![groupby](https://www.dropbox.com/scl/fi/9bi57pa5ak3zfkgb04u0k/groupby_example2_cropped.png?rlkey=1j3ua00n1n813z64igh2lvj4r&dl=1)\n",
    "*Figure 1: Pandas/Xarray selection, grouping, and processing chaining examples.*\n",
    "\n",
    "***\n",
    "The first step is to reduce the spatial coordinates, leaving us with a time series:"
   ]
  },
  {
   "cell_type": "code",
   "execution_count": null,
   "id": "f5feb516-a6c9-447d-afb2-29f73fd484f3",
   "metadata": {},
   "outputs": [],
   "source": [
    "# Let's reduce on the spatial coordinates. We do this by calculating the average value over the whole area at each time point\n",
    "# (We already did this earlier in the notebook, we're just doing it again here for completeness)\n",
    "mean_thru_time = ndvi.mean(dim=('x', 'y'))"
   ]
  },
  {
   "cell_type": "code",
   "execution_count": null,
   "id": "63ee8144-3c11-44c0-942f-4eb34a7fb65f",
   "metadata": {},
   "outputs": [],
   "source": [
    "mean_thru_time"
   ]
  },
  {
   "cell_type": "code",
   "execution_count": null,
   "id": "2f616cb6-b9af-4df8-8fd4-faf2db0eac86",
   "metadata": {},
   "outputs": [],
   "source": [
    "mean_thru_time.plot()"
   ]
  },
  {
   "cell_type": "markdown",
   "id": "88691ca0-e643-4d92-ab35-c4283771a659",
   "metadata": {},
   "source": [
    "Now we are going to calculate what the average annual cycle looks like, by taking the mean of all observations in each calendar month."
   ]
  },
  {
   "cell_type": "code",
   "execution_count": null,
   "id": "4b480cc6-636d-431f-b278-1125a4d849c9",
   "metadata": {},
   "outputs": [],
   "source": [
    "# Now let's calculate an annual cycle by taking the mean of every calendar month\n",
    "cycle = mean_thru_time.groupby('time.month').mean()"
   ]
  },
  {
   "cell_type": "code",
   "execution_count": null,
   "id": "ef74299d-649a-4cb5-8f5f-ebc55cdff54a",
   "metadata": {},
   "outputs": [],
   "source": [
    "cycle"
   ]
  },
  {
   "cell_type": "code",
   "execution_count": null,
   "id": "563403fc-a8f4-4d21-b8ab-67f10d971234",
   "metadata": {},
   "outputs": [],
   "source": [
    "cycle.plot()"
   ]
  },
  {
   "cell_type": "code",
   "execution_count": null,
   "id": "e6b6cb5b-8916-45a6-a073-8e9d5715fe96",
   "metadata": {},
   "outputs": [],
   "source": [
    "# If we just want seasons then we can also do this\n",
    "seasonal_cycle = mean_thru_time.groupby('time.season').mean()"
   ]
  },
  {
   "cell_type": "code",
   "execution_count": null,
   "id": "9674c3bb-de04-45b6-abd0-77d511f59d4b",
   "metadata": {},
   "outputs": [],
   "source": [
    "seasonal_cycle"
   ]
  },
  {
   "cell_type": "code",
   "execution_count": null,
   "id": "c66720fd",
   "metadata": {
    "scrolled": true
   },
   "outputs": [],
   "source": [
    "seasonal_cycle.plot()\n",
    "# However, this will fail because seasons are 'categorical' (i.e. not numerical) so xarray doesn't understand how to plot it."
   ]
  },
  {
   "cell_type": "code",
   "execution_count": null,
   "id": "cd1ecc29",
   "metadata": {},
   "outputs": [],
   "source": [
    "seasonal_cycle['season'].values"
   ]
  },
  {
   "cell_type": "code",
   "execution_count": null,
   "id": "d2091043",
   "metadata": {},
   "outputs": [],
   "source": [
    "# A workaround is to explicitly transform the xarray Data.Array into a pandas.DataFrame\n",
    "\n",
    "import pandas as pd\n",
    "\n",
    "df = pd.DataFrame(seasonal_cycle)\n",
    "# Overwrite the Index values with the Season abbreviations (\"DJF\", \"MAM\", ...)\n",
    "df.set_index(seasonal_cycle['season'].values, inplace=True)\n",
    "\n",
    "\n",
    "# The ordering is not as we want it (Summer before Spring):\n",
    "df"
   ]
  },
  {
   "cell_type": "code",
   "execution_count": null,
   "id": "c2af5160",
   "metadata": {},
   "outputs": [],
   "source": [
    "# a rather comlicated workaround:\n",
    "df.index = pd.CategoricalIndex(df.index, categories=['DJF', 'MAM', 'JJA', 'SON'], ordered=True)\n",
    "df = df.sort_index()\n",
    "\n",
    "# Plotting\n",
    "df.plot(kind='line', legend=False)\n",
    "plt.xlabel(\"Season\")\n",
    "plt.ylabel(\"Value\")\n",
    "plt.title(\"Seasonal Values\")\n",
    "plt.show()"
   ]
  },
  {
   "cell_type": "code",
   "execution_count": null,
   "id": "7a9cf0e3-ce46-404f-835b-31fd32ca28b5",
   "metadata": {},
   "outputs": [],
   "source": [
    "df"
   ]
  },
  {
   "cell_type": "markdown",
   "id": "4c4f4136",
   "metadata": {},
   "source": [
    "Long story short: It is easier to work with numerical values on the x-axis (like months [1,2,3,...])"
   ]
  }
 ],
 "metadata": {
  "kernelspec": {
   "display_name": "Python 3 (ipykernel)",
   "language": "python",
   "name": "python3"
  },
  "language_info": {
   "codemirror_mode": {
    "name": "ipython",
    "version": 3
   },
   "file_extension": ".py",
   "mimetype": "text/x-python",
   "name": "python",
   "nbconvert_exporter": "python",
   "pygments_lexer": "ipython3",
   "version": "3.11.13"
  }
 },
 "nbformat": 4,
 "nbformat_minor": 5
}
