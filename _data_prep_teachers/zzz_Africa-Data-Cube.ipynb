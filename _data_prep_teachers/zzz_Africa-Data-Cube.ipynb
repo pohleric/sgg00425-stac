{
 "cells": [
  {
   "cell_type": "code",
   "execution_count": 8,
   "id": "20359f67-cbbc-4fba-9bfb-6ac541e99ab8",
   "metadata": {},
   "outputs": [
    {
     "name": "stdout",
     "output_type": "stream",
     "text": [
      "The autoreload extension is already loaded. To reload it, use:\n",
      "  %reload_ext autoreload\n",
      "Available memory: 4.23 GB\n"
     ]
    }
   ],
   "source": [
    "%load_ext autoreload\n",
    "%autoreload 2\n",
    "\n",
    "import psutil\n",
    "import dask.distributed\n",
    "import rioxarray\n",
    "import numpy as np\n",
    "import xarray as xr\n",
    "from odc.stac import stac_load\n",
    "from pystac_client import Client\n",
    "import matplotlib.pyplot as plt\n",
    "\n",
    "import warnings\n",
    "warnings.filterwarnings(\"ignore\", category=UserWarning, message=\"angle from rectified to skew grid parameter lost in conversion to CF\")\n",
    "\n",
    "# Get the available memory in gigabytes (to later adapt chunks size)\n",
    "\n",
    "available_memory = psutil.virtual_memory().available\n",
    "available_memory_gb = available_memory / (1024 ** 3)\n",
    "\n",
    "print(f\"Available memory: {available_memory_gb:.2f} GB\")"
   ]
  },
  {
   "cell_type": "code",
   "execution_count": 2,
   "id": "c00f67c4-9e4b-433e-9f58-877862a60ce4",
   "metadata": {},
   "outputs": [],
   "source": [
    "client = dask.distributed.Client()\n",
    "\n",
    "catalog = Client.open(\"https://explorer.digitalearth.africa/stac\")\n"
   ]
  },
  {
   "cell_type": "code",
   "execution_count": 5,
   "id": "a6c9ca18-d101-4453-9e7c-f28975d98936",
   "metadata": {},
   "outputs": [
    {
     "name": "stderr",
     "output_type": "stream",
     "text": [
      "/Users/pohle/miniconda3/envs/pystac_example/lib/python3.11/site-packages/pystac_client/client.py:799: MissingLink: No link with rel='data' could be found on this Client.\n",
      "  href = self._get_href(\"data\", data_link, \"collections\")\n"
     ]
    },
    {
     "name": "stdout",
     "output_type": "stream",
     "text": [
      "                   products                                        description\n",
      "0        alos_palsar_mosaic  ALOS/PALSAR and ALOS-2/PALSAR-2 annual mosaic ...\n",
      "1             cci_landcover           ESA Climate Change Initiative Land Cover\n",
      "2            cgls_landcover  Copernicus Global Land Service, Land Use/Land ...\n",
      "3     cgls_lwq100_2019_2024  Copernicus Global Land Service – Lake Water Qu...\n",
      "4      cgls_lwq100_2024_nrt  Copernicus Global Land Service – Lake Water Qu...\n",
      "..                      ...                                                ...\n",
      "95  wofs_ls_summary_alltime   Water Observations from Space Alltime Statistics\n",
      "96   wofs_ls_summary_annual    Water Observations from Space Annual Statistics\n",
      "97                 wsf_2015  The World Settlement Footprint WSF 2015 versio...\n",
      "98                 wsf_2019  The World Settlement Footprint (WSF) 2019 is a...\n",
      "99            wsf_evolution  The World Settlement Footprint (WSF) Evolution...\n",
      "\n",
      "[100 rows x 2 columns]\n"
     ]
    }
   ],
   "source": [
    "import pandas as pd\n",
    "# Search the catalog for all available products\n",
    "collections = catalog.get_collections()\n",
    "\n",
    "# List the collections (products) available in the catalog\n",
    "product_names = [collection.id for collection in collections]\n",
    "\n",
    "descriptions = []\n",
    "# Get the descriptions and print a full list\n",
    "for pi in product_names:\n",
    "    collection = catalog.get_collection(pi)\n",
    "    descriptions.append(collection.description)\n",
    "    # print(f\"{collection.id} - {collection.description}\")\n",
    "\n",
    "df = pd.DataFrame({'products': product_names, 'description': descriptions})\n",
    "print(df)"
   ]
  },
  {
   "cell_type": "code",
   "execution_count": null,
   "id": "cb434d1c-b078-4641-aee7-3ce9709d1d58",
   "metadata": {},
   "outputs": [
    {
     "name": "stdout",
     "output_type": "stream",
     "text": [
      "alos_palsar_mosaic\n",
      "cci_landcover\n",
      "cgls_landcover\n",
      "crop_mask\n",
      "crop_mask_central\n",
      "crop_mask_eastern\n",
      "crop_mask_indian_ocean\n",
      "crop_mask_northern\n",
      "crop_mask_sahel\n",
      "crop_mask_southeast\n",
      "crop_mask_southern\n",
      "crop_mask_western\n",
      "dem_cop_30\n",
      "dem_cop_90\n",
      "dem_srtm\n",
      "dem_srtm_deriv\n",
      "esa_worldcover\n",
      "esa_worldcover_2020\n",
      "esa_worldcover_2021\n",
      "fc_ls\n",
      "fc_ls_summary_annual\n",
      "gm_ls5_ls7_annual\n",
      "gm_ls5_ls7_annual_lowres\n",
      "gm_ls8_annual\n",
      "gm_ls8_annual_lowres\n",
      "gm_ls8_ls9_annual\n",
      "gm_ls8_ls9_annual_lowres\n",
      "gm_s2_annual\n",
      "gm_s2_annual_lowres\n",
      "gm_s2_rolling\n",
      "gm_s2_semiannual\n",
      "gm_s2_semiannual_lowres\n",
      "gmw\n",
      "io_lulc\n",
      "isda_soil_bedrock_depth\n",
      "isda_soil_bulk_density\n",
      "isda_soil_carbon_total\n",
      "isda_soil_clay_content\n",
      "isda_soil_sand_content\n",
      "isda_soil_silt_content\n",
      "jers_sar_mosaic\n",
      "landsat_c2l2_ar\n",
      "ls5_sr\n",
      "ls5_st\n",
      "ls7_sr\n",
      "ls7_st\n",
      "ls8_sr\n",
      "ls8_st\n",
      "ls9_sr\n",
      "ls9_st\n",
      "maxar_morocco_earthquake\n",
      "maxar_morocco_earthquake_4bands\n",
      "maxar_morocco_earthquake_8bands\n",
      "nasadem\n",
      "ndvi_anomaly\n",
      "ndvi_climatology_ls\n",
      "pc_s2_annual\n",
      "rainfall_chirps_daily\n",
      "rainfall_chirps_monthly\n",
      "s1_rtc\n",
      "s2_l2a\n",
      "s2_l2a_c1\n",
      "s3_ol_2_wfr_nrt\n",
      "wofs_ls\n",
      "wofs_ls_summary_alltime\n",
      "wofs_ls_summary_annual\n",
      "wsf_2015\n",
      "wsf_2019\n",
      "wsf_evolution\n"
     ]
    }
   ],
   "source": [
    "for n in df.products:\n",
    "    print(n)"
   ]
  },
  {
   "cell_type": "code",
   "execution_count": 16,
   "id": "01b881ff-6367-4cd5-b248-e2d9074181d9",
   "metadata": {},
   "outputs": [
    {
     "name": "stdout",
     "output_type": "stream",
     "text": [
      "Acquisition Dates: ['2017-1', '2017-2', '2017-3', '2017-4', '2017-5', '2017-6', '2017-7', '2017-8', '2017-9', '2017-10', '2017-11', '2017-12', '2018-1', '2018-2', '2018-3', '2018-4', '2018-5', '2018-6', '2018-7', '2018-8', '2018-9', '2018-10', '2018-11', '2018-12', '2019-1', '2019-2', '2019-3', '2019-4', '2019-5', '2019-6', '2019-7', '2019-8', '2019-9', '2019-10', '2019-11', '2019-12', '2020-1', '2020-2', '2020-3', '2020-4', '2020-5', '2020-6', '2020-7', '2020-8', '2020-9', '2020-10', '2020-11', '2020-12', '2021-1', '2021-2', '2021-3', '2021-4', '2021-5', '2021-6', '2021-7', '2021-8', '2021-9', '2021-10', '2021-11', '2021-12', '2022-1', '2022-2', '2022-3', '2022-4', '2022-5', '2022-6', '2022-7', '2022-8', '2022-9', '2022-10', '2022-11', '2022-12', '2023-1', '2023-2', '2023-3', '2023-4', '2023-5', '2023-6', '2023-7', '2023-8', '2023-9', '2023-10', '2023-11', '2023-12', '2024-1', '2024-2', '2024-3', '2024-4', '2024-5', '2024-6', '2024-7', '2024-8', '2024-9', '2024-10', '2024-11', '2025-1', '2025-2', '2025-3', '2025-4', '2025-5', '2025-6', '2025-7', '2025-8', '2025-9']\n"
     ]
    }
   ],
   "source": [
    "# Some information, e.g. the available dates, can be extracted from the filename information\n",
    "# Other, more detailed information are provided on the website of the SDC (https://explorer.swissdatacube.org/products)\n",
    "\n",
    "# Get the collection client\n",
    "collection = catalog.get_collection(\"ndvi_anomaly\")\n",
    "\n",
    "# Initialize a list to hold the extracted values\n",
    "acquisition_dates = []\n",
    "\n",
    "# Iterate over the links\n",
    "for link in collection.links:\n",
    "    if link.rel == \"child\":  # Filter for links with the 'child' relationship\n",
    "        # Extract the last part of the href\n",
    "        last_part = link.href.split('/')[-1]  # Get the last segment\n",
    "        acquisition_dates.append(last_part)\n",
    "\n",
    "# Print the extracted acquisition dates\n",
    "print(\"Acquisition Dates:\", acquisition_dates)"
   ]
  },
  {
   "cell_type": "code",
   "execution_count": 17,
   "id": "7f9f431d-8a95-4ad7-ba70-0549eaed8af1",
   "metadata": {},
   "outputs": [],
   "source": [
    "client.close()"
   ]
  },
  {
   "cell_type": "code",
   "execution_count": null,
   "id": "64b9d458-1970-4652-932d-23b5659c919f",
   "metadata": {},
   "outputs": [],
   "source": []
  }
 ],
 "metadata": {
  "kernelspec": {
   "display_name": "Python 3 (ipykernel)",
   "language": "python",
   "name": "python3"
  },
  "language_info": {
   "codemirror_mode": {
    "name": "ipython",
    "version": 3
   },
   "file_extension": ".py",
   "mimetype": "text/x-python",
   "name": "python",
   "nbconvert_exporter": "python",
   "pygments_lexer": "ipython3",
   "version": "3.11.13"
  }
 },
 "nbformat": 4,
 "nbformat_minor": 5
}
