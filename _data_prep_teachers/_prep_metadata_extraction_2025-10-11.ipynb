{
 "cells": [
  {
   "cell_type": "markdown",
   "id": "89f38194-47fc-4b00-9422-4c2c6676c37a",
   "metadata": {},
   "source": [
    "# Metadata extraction - teachers only\n",
    "This file is only used by the teachers to prepare metadata, like the time periods covered by individual datasets etc. This serves to avoid using very time consuming `dask` and `stack` commands to crawl through the data cube and extract those information individually."
   ]
  },
  {
   "cell_type": "markdown",
   "id": "755e040f-4bb5-4c1b-b8d3-a0fcce7a1378",
   "metadata": {},
   "source": [
    "Crawl through the individual datasets on the data cubes **or** the respective http JSON files on the \"explorer\" websites, and extract all relevant information to be used for updating the `measurements.csv` file.\n",
    "- Create one `measurements_<data-cube-name>.csv`, for the Swiss, African, and Australian data cubes (<data-cube-name>)\n",
    "- Update specifically the `time_start` and `time_end` arguments. These are crucial in the `config_tool.ipynb` routine"
   ]
  },
  {
   "cell_type": "markdown",
   "id": "d26e2b20-9607-4484-bd5b-3cc95164ea83",
   "metadata": {},
   "source": [
    "## Workflow\n",
    "1. Read `measurements.csv` as `pd.DataFrame`\n",
    "2. Connect to relevant datacube / or use directly the `http` link with JSON files\n",
    "3. Identify all available dataset names (`catalogue`)\n",
    "4. Identify the **explorer** link to the individual datasets\n",
    "5. Use `http` to crawl through the JSON files using `request` on the **explorer** webiste (not using dash/stack - way too slow)\n",
    "7. Identify relevant `attributes` (on the Swiss Data Cube (SDC) this is: \"https://explorer.swissdatacube.org/stac/collections/<\"dataset name\">/extent/temporal/interval/0/<\"0 = start, or 1 = end\">\n",
    "8. Update fields `time_start` and `time_end` in `measurements_<data-cube-name>` pd.DataFrame\n",
    "9. Write `measurements_<data-cube-name>.csv`"
   ]
  },
  {
   "cell_type": "code",
   "execution_count": 1,
   "id": "d6637696-be20-44ae-af42-371d6c9909ae",
   "metadata": {},
   "outputs": [],
   "source": [
    "# 1\n",
    "import pandas as pd\n",
    "import requests\n",
    "import copy\n",
    "\n",
    "df_meas_base = pd.read_csv('data/measurements_SwissDC_2024.csv')"
   ]
  },
  {
   "cell_type": "code",
   "execution_count": null,
   "id": "74f02d90-d46d-4c40-8c85-580d2be6968b",
   "metadata": {},
   "outputs": [],
   "source": [
    "#\n",
    "# SWISS Data Cube\n",
    "#"
   ]
  },
  {
   "cell_type": "code",
   "execution_count": 3,
   "id": "f22bbe00-e59b-4797-940f-80fa683d764c",
   "metadata": {},
   "outputs": [
    {
     "name": "stdout",
     "output_type": "stream",
     "text": [
      "✅ Updated metadata saved to 'measurements_SwissDC.csv'\n"
     ]
    }
   ],
   "source": [
    "dc_i = \"SwissDC\"\n",
    "expl_i = \"http://explorer.swissdatacube.org:8080/stac/collections\"\n",
    "# 1. Read measurements file\n",
    "df = pd.read_csv(\"data/measurements_SwissDC_2024.csv\")\n",
    "\n",
    "# 2. Fetch STAC collections metadata\n",
    "url = DCs_expl[i]\n",
    "response = requests.get(url)\n",
    "response.raise_for_status()\n",
    "data = response.json()\n",
    "\n",
    "# 3. Extract collection id, start date, and end date\n",
    "records = []\n",
    "for col in data.get(\"collections\", []):\n",
    "    cid = col.get(\"id\")\n",
    "    temporal = col.get(\"extent\", {}).get(\"temporal\", {}).get(\"interval\", [[None, None]])[0]\n",
    "    start = temporal[0]\n",
    "    end = temporal[1]\n",
    "    # The SwissDC does not provide metadata on spatial resoltion, so no point in trying to extract this here\n",
    "    records.append({\"product\": cid, \"time_start\": start, \"time_end\": end})\n",
    "\n",
    "meta_df = pd.DataFrame(records)\n",
    "# print(meta_df)\n",
    "\n",
    "# 4. Clean date format (keep YYYY or YYYY-MM if possible)\n",
    "def format_date(d):\n",
    "    if d is None:\n",
    "        return None\n",
    "    d = d.split(\"T\")[0]  # drop time component\n",
    "    # remove trailing \"-01\" if only year is available, or keep YYYY-MM. All seem to work in the config tool.\n",
    "    return d\n",
    "\n",
    "meta_df[\"time_start\"] = meta_df[\"time_start\"].apply(format_date)\n",
    "meta_df[\"time_end\"] = meta_df[\"time_end\"].apply(format_date)\n",
    "\n",
    "# 5. Merge with your measurements file\n",
    "merged = df.merge(meta_df, on=\"product\", how=\"left\", suffixes=(\"\", \"_new\"))\n",
    "\n",
    "# # 6. Overwrite only if new info available\n",
    "# for col in [\"time_start\", \"time_end\"]:\n",
    "#     merged[col] = merged[f\"{col}_new\"].combine_first(merged[col])\n",
    "\n",
    "# 6. Overwrite existing values if new info available (not None)\n",
    "# But skip arealstatistik and corinelc_europe - not valid dates inside!\n",
    "skip_products = [\"arealstatistik\", \"corinelc_europe\"]\n",
    "mask = ~merged[\"product\"].isin(skip_products)\n",
    "for col in [\"time_start\", \"time_end\"]:\n",
    "    merged.loc[mask,col] = merged.loc[mask,f\"{col}_new\"].where(merged.loc[mask,f\"{col}_new\"].notna(), merged.loc[mask,col])\n",
    "\n",
    "\n",
    "# 7. Drop temporary columns and save\n",
    "merged = merged.drop(columns=[\"time_start_new\", \"time_end_new\"])\n",
    "merged.to_csv(f\"measurements_{dc_i}.csv\", index=False)\n",
    "\n",
    "print(f\"Updated metadata saved to 'measurements_{dc_i}.csv'\")"
   ]
  },
  {
   "cell_type": "code",
   "execution_count": null,
   "id": "002c2923-bd67-465f-9bfb-19c13d3072fe",
   "metadata": {},
   "outputs": [],
   "source": []
  },
  {
   "cell_type": "code",
   "execution_count": null,
   "id": "c2a8b624-9cf2-465f-a3f1-3db6b66b9855",
   "metadata": {},
   "outputs": [],
   "source": [
    "#\n",
    "# African Data Cube\n",
    "#"
   ]
  },
  {
   "cell_type": "code",
   "execution_count": 4,
   "id": "a8366cc2-0e25-4442-bb93-1123330f66ab",
   "metadata": {},
   "outputs": [],
   "source": [
    "import requests\n",
    "import pandas as pd\n",
    "\n",
    "collections_url = \"https://explorer.digitalearth.africa/stac/collections\"\n",
    "collections = requests.get(collections_url).json()[\"collections\"]\n"
   ]
  },
  {
   "cell_type": "code",
   "execution_count": 7,
   "id": "f98971eb-8918-4c31-8f1c-12f84ddd604f",
   "metadata": {},
   "outputs": [],
   "source": [
    "col = collections[0]\n",
    "# col\n",
    "info = {\n",
    "    \"id\": col[\"id\"],\n",
    "    \"description\": col[\"description\"],\n",
    "    \"extent_spatial\": col[\"extent\"][\"spatial\"][\"bbox\"][0],\n",
    "    \"extent_temporal\": col[\"extent\"][\"temporal\"][\"interval\"][0],\n",
    "}"
   ]
  },
  {
   "cell_type": "code",
   "execution_count": 9,
   "id": "25564152-a872-470b-b214-939d5d600780",
   "metadata": {},
   "outputs": [
    {
     "data": {
      "text/plain": [
       "'alos_palsar_mosaic'"
      ]
     },
     "execution_count": 9,
     "metadata": {},
     "output_type": "execute_result"
    }
   ],
   "source": [
    "_measurement = info['id']\n",
    "_description = info['description']\n",
    "_extent = info['extent_spatial']"
   ]
  },
  {
   "cell_type": "code",
   "execution_count": 46,
   "id": "46e932bf-9df4-43c8-9916-966697570524",
   "metadata": {},
   "outputs": [
    {
     "name": "stdout",
     "output_type": "stream",
     "text": [
      "EPSG:4326\n"
     ]
    }
   ],
   "source": [
    "from pyproj import CRS, Transformer\n",
    "\n",
    "# get the items link instead of the child\n",
    "items_url = next(l[\"href\"] for l in col[\"links\"] if l[\"rel\"] == \"items\")\n",
    "\n",
    "# now request the first feature from that items collection\n",
    "features = requests.get(items_url).json()[\"features\"]\n",
    "feature = features[0]\n",
    "\n",
    "epsg = feature['properties']['proj:epsg']\n",
    "transform = feature[\"properties\"][\"proj:transform\"]\n",
    "\n",
    "crs = CRS.from_epsg(epsg)\n",
    "print(crs)\n",
    "\n",
    "# # extract transform and resolution\n",
    "# transform = feature[\"properties\"][\"proj:transform\"]\n",
    "# res_deg = transform[0]\n",
    "# res_m = abs(res_deg * 111320)\n",
    "# info[\"resolution_m\"] = res_m\n",
    "# print(feature)"
   ]
  },
  {
   "cell_type": "code",
   "execution_count": 45,
   "id": "ac15d973-6e38-4f15-b597-e096e8fca509",
   "metadata": {},
   "outputs": [
    {
     "data": {
      "text/plain": [
       "4326"
      ]
     },
     "execution_count": 45,
     "metadata": {},
     "output_type": "execute_result"
    }
   ],
   "source": [
    "feature.keys()\n",
    "epsg = feature['properties']['proj:epsg']"
   ]
  },
  {
   "cell_type": "code",
   "execution_count": 15,
   "id": "e2f4d174-e7d7-4242-a14c-e9ebdf9363d9",
   "metadata": {},
   "outputs": [
    {
     "data": {
      "text/plain": [
       "24.73777777777779"
      ]
     },
     "execution_count": 15,
     "metadata": {},
     "output_type": "execute_result"
    }
   ],
   "source": [
    "res_m"
   ]
  },
  {
   "cell_type": "code",
   "execution_count": null,
   "id": "68347b24-1f7f-46f1-9cd2-dd48318bf11c",
   "metadata": {},
   "outputs": [],
   "source": []
  },
  {
   "cell_type": "code",
   "execution_count": 16,
   "id": "bc014015-f4e7-44d4-bbe7-75cf7650cf94",
   "metadata": {},
   "outputs": [
    {
     "name": "stderr",
     "output_type": "stream",
     "text": [
      "/Users/pohle/miniconda3/envs/pystac_example/lib/python3.11/site-packages/pystac_client/client.py:799: MissingLink: No link with rel='data' could be found on this Client.\n",
      "  href = self._get_href(\"data\", data_link, \"collections\")\n"
     ]
    },
    {
     "name": "stdout",
     "output_type": "stream",
     "text": [
      "['alos_palsar_mosaic', 'cci_landcover', 'cgls_landcover', 'cgls_lwq100_2019_2024', 'cgls_lwq100_2024_nrt', 'cgls_lwq300_2002_2012', 'cgls_lwq300_2016_2024', 'cgls_lwq300_2024_nrt', 'crop_mask', 'crop_mask_central', 'crop_mask_eastern', 'crop_mask_indian_ocean', 'crop_mask_northern', 'crop_mask_sahel', 'crop_mask_southeast', 'crop_mask_southern', 'crop_mask_western', 'dem_cop_30', 'dem_cop_90', 'dem_srtm', 'dem_srtm_deriv', 'esa_worldcereal_activecropland', 'esa_worldcereal_maize_active', 'esa_worldcereal_maize_irrigation', 'esa_worldcereal_maize_main', 'esa_worldcereal_temporarycrops', 'esa_worldcereal_wintercereals', 'esa_worldcereal_wintercereals_irrigation', 'esa_worldcover', 'esa_worldcover_2020', 'esa_worldcover_2021', 'fc_ls', 'fc_ls_summary_annual', 'gm_ls5_ls7_annual', 'gm_ls5_ls7_annual_lowres', 'gm_ls8_annual', 'gm_ls8_annual_lowres', 'gm_ls8_ls9_annual', 'gm_ls8_ls9_annual_lowres', 'gm_s2_annual', 'gm_s2_annual_lowres', 'gm_s2_rolling', 'gm_s2_semiannual', 'gm_s2_semiannual_lowres', 'gmw', 'io_lulc', 'io_lulc_v2', 'isda_soil_bedrock_depth', 'isda_soil_bulk_density', 'isda_soil_carbon_total', 'isda_soil_clay_content', 'isda_soil_sand_content', 'isda_soil_silt_content', 'iwmi_blue_et_monthly', 'iwmi_evaporation_monthly', 'iwmi_green_et_monthly', 'iwmi_interception_monthly', 'iwmi_transpiration_monthly', 'jers_sar_mosaic', 'landsat_c2l2_ar', 'ls5_sr', 'ls5_st', 'ls7_sr', 'ls7_st', 'ls8_sr', 'ls8_st', 'ls9_sr', 'ls9_st', 'maxar_morocco_earthquake', 'maxar_morocco_earthquake_4bands', 'maxar_morocco_earthquake_8bands', 'nasadem', 'ndvi_anomaly', 'ndvi_climatology_ls', 'pc_s2_annual', 'rainfall_chirps_daily', 'rainfall_chirps_monthly', 's1_monthly_mosaic', 's1_rtc', 's2_l2a', 's2_l2a_c1', 's3_ol_2_wfr_nrt', 's3_olci_l2_lfr', 's3_olci_l2_wfr', 's3_syn_2_vg1', 's5p_tropomi_l2_aer_ai', 's5p_tropomi_l2_ch4', 's5p_tropomi_l2_cloud', 's5p_tropomi_l2_co', 's5p_tropomi_l2_hcho', 's5p_tropomi_l2_no2', 's5p_tropomi_l2_o3', 's5p_tropomi_l2_so2', 'wapor_soil_moisture', 'wofs_ls', 'wofs_ls_summary_alltime', 'wofs_ls_summary_annual', 'wsf_2015', 'wsf_2019', 'wsf_evolution']\n",
      "ALOS/PALSAR and ALOS-2/PALSAR-2 annual mosaic tiles generated for use in the Data Cube - 25m pixel spacing, WGS84. These tiles are derived from the orignal JAXA mosaics with conversion to GeoTIFF.\n",
      "Item ID: 007b7139-ce42-5918-932a-41a48ddc6bd8\n",
      "Projection transform: [0.00022222222222222234, 0.0, 30.0, 0.0, -0.00022222222222222234, -10.0, 0.0, 0.0, 1.0]\n",
      "Resolution ≈ 24.7 m\n"
     ]
    }
   ],
   "source": [
    "# with pystac\n",
    "from pystac_client import Client\n",
    "\n",
    "# Connect to Digital Earth Africa's STAC endpoint\n",
    "catalog = Client.open(\"https://explorer.digitalearth.africa/stac\")\n",
    "\n",
    "# Inspect available collections\n",
    "collections = list(catalog.get_collections())\n",
    "print([c.id for c in collections])\n",
    "\n",
    "# Select one collection\n",
    "collection_id = \"alos_palsar_mosaic\"\n",
    "collection = catalog.get_collection(collection_id)\n",
    "print(collection.description)\n",
    "\n",
    "# Search for items in the collection (you can add bbox, datetime, or query filters)\n",
    "search = catalog.search(collections=[collection_id], max_items=5)\n",
    "items = list(search.items())\n",
    "\n",
    "# Work with the first item\n",
    "item = items[0]\n",
    "print(f\"Item ID: {item.id}\")\n",
    "print(f\"Projection transform: {item.properties['proj:transform']}\")\n",
    "\n",
    "# Compute approximate spatial resolution in meters\n",
    "res_deg = item.properties[\"proj:transform\"][0]\n",
    "res_m = abs(res_deg * 111320)\n",
    "print(f\"Resolution ≈ {res_m:.1f} m\")\n"
   ]
  },
  {
   "cell_type": "code",
   "execution_count": 27,
   "id": "b2676656-0450-4cb5-b601-cb1bde532e56",
   "metadata": {},
   "outputs": [
    {
     "name": "stdout",
     "output_type": "stream",
     "text": [
      "Item ID: 003d41a0-3cd0-54c5-83b8-53c74fc9ae10\n"
     ]
    },
    {
     "ename": "KeyError",
     "evalue": "'proj:epsg'",
     "output_type": "error",
     "traceback": [
      "\u001b[31m---------------------------------------------------------------------------\u001b[39m",
      "\u001b[31mKeyError\u001b[39m                                  Traceback (most recent call last)",
      "\u001b[36mCell\u001b[39m\u001b[36m \u001b[39m\u001b[32mIn[27]\u001b[39m\u001b[32m, line 3\u001b[39m\n\u001b[32m      1\u001b[39m item = items[\u001b[32m0\u001b[39m]\n\u001b[32m      2\u001b[39m \u001b[38;5;28mprint\u001b[39m(\u001b[33mf\u001b[39m\u001b[33m\"\u001b[39m\u001b[33mItem ID: \u001b[39m\u001b[38;5;132;01m{\u001b[39;00mitem.id\u001b[38;5;132;01m}\u001b[39;00m\u001b[33m\"\u001b[39m)\n\u001b[32m----> \u001b[39m\u001b[32m3\u001b[39m \u001b[38;5;28mprint\u001b[39m(\u001b[33mf\u001b[39m\u001b[33m\"\u001b[39m\u001b[33mProjection transform: \u001b[39m\u001b[38;5;132;01m{\u001b[39;00m\u001b[43mitem\u001b[49m\u001b[43m.\u001b[49m\u001b[43mproperties\u001b[49m\u001b[43m[\u001b[49m\u001b[33;43m'\u001b[39;49m\u001b[33;43mproj:epsg\u001b[39;49m\u001b[33;43m'\u001b[39;49m\u001b[43m]\u001b[49m\u001b[38;5;132;01m}\u001b[39;00m\u001b[33m\"\u001b[39m)\n",
      "\u001b[31mKeyError\u001b[39m: 'proj:epsg'"
     ]
    }
   ],
   "source": [
    "item = items[0]\n",
    "print(f\"Item ID: {item.id}\")\n",
    "print(f\"Projection transform: {item.properties['proj:epsg']}\")\n"
   ]
  },
  {
   "cell_type": "code",
   "execution_count": 33,
   "id": "b12827c2-5661-4d46-93a0-b189b34123ee",
   "metadata": {},
   "outputs": [],
   "source": [
    "epsg"
   ]
  },
  {
   "cell_type": "code",
   "execution_count": 32,
   "id": "97afb872-89bc-4c3a-bb87-2695d23d0d52",
   "metadata": {},
   "outputs": [
    {
     "name": "stdout",
     "output_type": "stream",
     "text": [
      "Monthly NDVI Anomalies produced by Digital Earth Africa.\n",
      "Item ID: 003d41a0-3cd0-54c5-83b8-53c74fc9ae10\n",
      "Projection transform: [30.0, 0.0, 3168000.0, 0.0, -30.0, 2304000.0, 0.0, 0.0, 1.0]\n"
     ]
    },
    {
     "ename": "CRSError",
     "evalue": "Invalid projection: EPSG:None: (Internal Proj Error: proj_create: crs not found: EPSG:None)",
     "output_type": "error",
     "traceback": [
      "\u001b[31m---------------------------------------------------------------------------\u001b[39m",
      "\u001b[31mCRSError\u001b[39m                                  Traceback (most recent call last)",
      "\u001b[36mCell\u001b[39m\u001b[36m \u001b[39m\u001b[32mIn[32]\u001b[39m\u001b[32m, line 24\u001b[39m\n\u001b[32m     19\u001b[39m epsg = item.properties.get(\u001b[33m\"\u001b[39m\u001b[33mproj:epsg\u001b[39m\u001b[33m\"\u001b[39m)\n\u001b[32m     20\u001b[39m res_deg = item.properties.get(\u001b[33m\"\u001b[39m\u001b[33mproj:transform\u001b[39m\u001b[33m\"\u001b[39m)\u001b[38;5;66;03m#[0]\u001b[39;00m\n\u001b[32m---> \u001b[39m\u001b[32m24\u001b[39m crs = \u001b[43mCRS\u001b[49m\u001b[43m.\u001b[49m\u001b[43mfrom_epsg\u001b[49m\u001b[43m(\u001b[49m\u001b[43mepsg\u001b[49m\u001b[43m)\u001b[49m\n\u001b[32m     25\u001b[39m \u001b[38;5;28mprint\u001b[39m(crs)\n\u001b[32m     27\u001b[39m \u001b[38;5;66;03m# res_deg = transform[0]\u001b[39;00m\n\u001b[32m     28\u001b[39m \u001b[38;5;66;03m# if epsg == 4326:\u001b[39;00m\n\u001b[32m     29\u001b[39m \u001b[38;5;66;03m#     # Approximate meters per degree at equator\u001b[39;00m\n\u001b[32m   (...)\u001b[39m\u001b[32m     37\u001b[39m \u001b[38;5;66;03m# res_m = abs(res_deg[0] * 111320)\u001b[39;00m\n\u001b[32m     38\u001b[39m \u001b[38;5;66;03m# print(f\"Resolution ≈ {res_m:.1f} m\")\u001b[39;00m\n",
      "\u001b[36mFile \u001b[39m\u001b[32m~/miniconda3/envs/pystac_example/lib/python3.11/site-packages/pyproj/crs/crs.py:394\u001b[39m, in \u001b[36mCRS.from_epsg\u001b[39m\u001b[34m(cls, code)\u001b[39m\n\u001b[32m    381\u001b[39m \u001b[38;5;129m@classmethod\u001b[39m\n\u001b[32m    382\u001b[39m \u001b[38;5;28;01mdef\u001b[39;00m\u001b[38;5;250m \u001b[39m\u001b[34mfrom_epsg\u001b[39m(\u001b[38;5;28mcls\u001b[39m, code: \u001b[38;5;28mstr\u001b[39m | \u001b[38;5;28mint\u001b[39m) -> \u001b[33m\"\u001b[39m\u001b[33mCRS\u001b[39m\u001b[33m\"\u001b[39m:\n\u001b[32m    383\u001b[39m \u001b[38;5;250m    \u001b[39m\u001b[33;03m\"\"\"Make a CRS from an EPSG code\u001b[39;00m\n\u001b[32m    384\u001b[39m \n\u001b[32m    385\u001b[39m \u001b[33;03m    Parameters\u001b[39;00m\n\u001b[32m   (...)\u001b[39m\u001b[32m    392\u001b[39m \u001b[33;03m    CRS\u001b[39;00m\n\u001b[32m    393\u001b[39m \u001b[33;03m    \"\"\"\u001b[39;00m\n\u001b[32m--> \u001b[39m\u001b[32m394\u001b[39m     \u001b[38;5;28;01mreturn\u001b[39;00m \u001b[38;5;28;43mcls\u001b[39;49m\u001b[43m.\u001b[49m\u001b[43mfrom_user_input\u001b[49m\u001b[43m(\u001b[49m\u001b[43m_prepare_from_epsg\u001b[49m\u001b[43m(\u001b[49m\u001b[43mcode\u001b[49m\u001b[43m)\u001b[49m\u001b[43m)\u001b[49m\n",
      "\u001b[36mFile \u001b[39m\u001b[32m~/miniconda3/envs/pystac_example/lib/python3.11/site-packages/pyproj/crs/crs.py:503\u001b[39m, in \u001b[36mCRS.from_user_input\u001b[39m\u001b[34m(cls, value, **kwargs)\u001b[39m\n\u001b[32m    501\u001b[39m \u001b[38;5;28;01mif\u001b[39;00m \u001b[38;5;28misinstance\u001b[39m(value, \u001b[38;5;28mcls\u001b[39m):\n\u001b[32m    502\u001b[39m     \u001b[38;5;28;01mreturn\u001b[39;00m value\n\u001b[32m--> \u001b[39m\u001b[32m503\u001b[39m \u001b[38;5;28;01mreturn\u001b[39;00m \u001b[38;5;28;43mcls\u001b[39;49m\u001b[43m(\u001b[49m\u001b[43mvalue\u001b[49m\u001b[43m,\u001b[49m\u001b[43m \u001b[49m\u001b[43m*\u001b[49m\u001b[43m*\u001b[49m\u001b[43mkwargs\u001b[49m\u001b[43m)\u001b[49m\n",
      "\u001b[36mFile \u001b[39m\u001b[32m~/miniconda3/envs/pystac_example/lib/python3.11/site-packages/pyproj/crs/crs.py:350\u001b[39m, in \u001b[36mCRS.__init__\u001b[39m\u001b[34m(self, projparams, **kwargs)\u001b[39m\n\u001b[32m    348\u001b[39m     \u001b[38;5;28mself\u001b[39m._local.crs = projparams\n\u001b[32m    349\u001b[39m \u001b[38;5;28;01melse\u001b[39;00m:\n\u001b[32m--> \u001b[39m\u001b[32m350\u001b[39m     \u001b[38;5;28mself\u001b[39m._local.crs = \u001b[43m_CRS\u001b[49m\u001b[43m(\u001b[49m\u001b[38;5;28;43mself\u001b[39;49m\u001b[43m.\u001b[49m\u001b[43msrs\u001b[49m\u001b[43m)\u001b[49m\n",
      "\u001b[36mFile \u001b[39m\u001b[32m~/miniconda3/envs/pystac_example/lib/python3.11/site-packages/pyproj/_crs.pyx:2364\u001b[39m, in \u001b[36mpyproj._crs._CRS.__init__\u001b[39m\u001b[34m()\u001b[39m\n",
      "\u001b[31mCRSError\u001b[39m: Invalid projection: EPSG:None: (Internal Proj Error: proj_create: crs not found: EPSG:None)"
     ]
    }
   ],
   "source": [
    "from pyproj import CRS, Transformer\n",
    "\n",
    "# Select one collection\n",
    "collection_id = \"ndvi_anomaly\"\n",
    "collection = catalog.get_collection(collection_id)\n",
    "print(collection.description)\n",
    "\n",
    "# Search for items in the collection (you can add bbox, datetime, or query filters)\n",
    "search = catalog.search(collections=[collection_id], max_items=5)\n",
    "items = list(search.items())\n",
    "\n",
    "# Work with the first item\n",
    "item = items[0]\n",
    "print(f\"Item ID: {item.id}\")\n",
    "print(f\"Projection transform: {item.properties['proj:transform']}\")\n",
    "\n",
    "# Compute approximate spatial resolution in meters\n",
    "# projection = item.properties[\"proj:transform\"]\n",
    "epsg = item.properties.get(\"proj:epsg\")\n",
    "res_deg = item.properties.get(\"proj:transform\")#[0]\n",
    "\n",
    "\n",
    "\n",
    "crs = CRS.from_epsg(epsg)\n",
    "print(crs)\n",
    "\n",
    "# res_deg = transform[0]\n",
    "# if epsg == 4326:\n",
    "#     # Approximate meters per degree at equator\n",
    "#     res_m = abs(res_deg * 111320)\n",
    "# else:\n",
    "#     # In projected CRS, resolution may already be in meters\n",
    "#     res_m = abs(res_deg)\n",
    "\n",
    "# print(f\"Approximate resolution: {res_m:.2f} meters\")\n",
    "\n",
    "# res_m = abs(res_deg[0] * 111320)\n",
    "# print(f\"Resolution ≈ {res_m:.1f} m\")"
   ]
  },
  {
   "cell_type": "code",
   "execution_count": 22,
   "id": "cf28600d-30d7-4fa4-bdaf-ce2faeb1e09b",
   "metadata": {},
   "outputs": [
    {
     "data": {
      "text/plain": [
       "[30.0, 0.0, 3168000.0, 0.0, -30.0, 2304000.0, 0.0, 0.0, 1.0]"
      ]
     },
     "execution_count": 22,
     "metadata": {},
     "output_type": "execute_result"
    }
   ],
   "source": [
    "projection"
   ]
  },
  {
   "cell_type": "code",
   "execution_count": null,
   "id": "2a4083f2-8c31-4b30-8fcc-54301f7a16a4",
   "metadata": {},
   "outputs": [],
   "source": []
  },
  {
   "cell_type": "code",
   "execution_count": 13,
   "id": "1376d123-9e76-4aa2-9842-65d0d862eae2",
   "metadata": {},
   "outputs": [
    {
     "ename": "KeyError",
     "evalue": "'features'",
     "output_type": "error",
     "traceback": [
      "\u001b[31m---------------------------------------------------------------------------\u001b[39m",
      "\u001b[31mKeyError\u001b[39m                                  Traceback (most recent call last)",
      "\u001b[36mCell\u001b[39m\u001b[36m \u001b[39m\u001b[32mIn[13]\u001b[39m\u001b[32m, line 2\u001b[39m\n\u001b[32m      1\u001b[39m child_url = \u001b[38;5;28mnext\u001b[39m(l[\u001b[33m\"\u001b[39m\u001b[33mhref\u001b[39m\u001b[33m\"\u001b[39m] \u001b[38;5;28;01mfor\u001b[39;00m l \u001b[38;5;129;01min\u001b[39;00m col[\u001b[33m\"\u001b[39m\u001b[33mlinks\u001b[39m\u001b[33m\"\u001b[39m] \u001b[38;5;28;01mif\u001b[39;00m l[\u001b[33m\"\u001b[39m\u001b[33mrel\u001b[39m\u001b[33m\"\u001b[39m] == \u001b[33m\"\u001b[39m\u001b[33mchild\u001b[39m\u001b[33m\"\u001b[39m)\n\u001b[32m----> \u001b[39m\u001b[32m2\u001b[39m feature = \u001b[43mrequests\u001b[49m\u001b[43m.\u001b[49m\u001b[43mget\u001b[49m\u001b[43m(\u001b[49m\u001b[43mchild_url\u001b[49m\u001b[43m)\u001b[49m\u001b[43m.\u001b[49m\u001b[43mjson\u001b[49m\u001b[43m(\u001b[49m\u001b[43m)\u001b[49m\u001b[43m[\u001b[49m\u001b[33;43m\"\u001b[39;49m\u001b[33;43mfeatures\u001b[39;49m\u001b[33;43m\"\u001b[39;49m\u001b[43m]\u001b[49m[\u001b[32m0\u001b[39m]\n\u001b[32m      3\u001b[39m transform = feature[\u001b[33m\"\u001b[39m\u001b[33mproperties\u001b[39m\u001b[33m\"\u001b[39m][\u001b[33m\"\u001b[39m\u001b[33mproj:transform\u001b[39m\u001b[33m\"\u001b[39m]\n\u001b[32m      4\u001b[39m res_deg = transform[\u001b[32m0\u001b[39m]\n",
      "\u001b[31mKeyError\u001b[39m: 'features'"
     ]
    }
   ],
   "source": [
    "child_url = next(l[\"href\"] for l in col[\"links\"] if l[\"rel\"] == \"child\")\n",
    "feature = requests.get(child_url).json()[\"features\"][0]\n",
    "transform = feature[\"properties\"][\"proj:transform\"]\n",
    "res_deg = transform[0]\n",
    "res_m = res_deg * 111320  # ≈ 25 m for ALOS mosaics\n",
    "info[\"resolution_m\"] = res_m\n"
   ]
  },
  {
   "cell_type": "code",
   "execution_count": 10,
   "id": "33abf50f-5c5a-4ccb-9e0c-ec8b9c164455",
   "metadata": {},
   "outputs": [
    {
     "data": {
      "text/plain": [
       "{'id': 'alos_palsar_mosaic',\n",
       " 'description': 'ALOS/PALSAR and ALOS-2/PALSAR-2 annual mosaic tiles generated for use in the Data Cube - 25m pixel spacing, WGS84. These tiles are derived from the orignal JAXA mosaics with conversion to GeoTIFF.',\n",
       " 'extent_spatial': [-20.000000000000004,\n",
       "  -35.019721543030116,\n",
       "  55.000000000000014,\n",
       "  39.99999999999999],\n",
       " 'extent_temporal': ['2007-01-01T00:00:00Z', '2022-01-01T00:00:00Z']}"
      ]
     },
     "execution_count": 10,
     "metadata": {},
     "output_type": "execute_result"
    }
   ],
   "source": [
    "info"
   ]
  },
  {
   "cell_type": "code",
   "execution_count": null,
   "id": "b89cb208-4a9e-466e-a309-4089736923c4",
   "metadata": {},
   "outputs": [],
   "source": []
  },
  {
   "cell_type": "code",
   "execution_count": null,
   "id": "f3148dec-b698-4fd7-a195-f6677ec08217",
   "metadata": {},
   "outputs": [],
   "source": []
  },
  {
   "cell_type": "code",
   "execution_count": 3,
   "id": "b4978916-45d8-45c8-842c-b70efb715639",
   "metadata": {},
   "outputs": [
    {
     "name": "stdout",
     "output_type": "stream",
     "text": [
      "alos_palsar_mosaic\n",
      "Warning: cannot read s3://deafrica-input-datasets/alos_palsar_mosaic/2007/S10E030/S10E030_07_sl_HH_F__DAR.tif : AWS_SECRET_ACCESS_KEY and AWS_NO_SIGN_REQUEST configuration options not defined, and /Users/pohle/.aws/credentials not filled\n",
      "Warning: cannot read s3://deafrica-input-datasets/alos_palsar_mosaic/2007/S10E030/S10E030_07_sl_HV_F__DAR.tif : AWS_SECRET_ACCESS_KEY and AWS_NO_SIGN_REQUEST configuration options not defined, and /Users/pohle/.aws/credentials not filled\n",
      "Warning: cannot read s3://deafrica-input-datasets/alos_palsar_mosaic/2007/S10E030/S10E030_07_sl_date_F__DAR.tif : AWS_SECRET_ACCESS_KEY and AWS_NO_SIGN_REQUEST configuration options not defined, and /Users/pohle/.aws/credentials not filled\n",
      "Warning: cannot read s3://deafrica-input-datasets/alos_palsar_mosaic/2007/S10E030/S10E030_07_sl_mask_F__DAR.tif : AWS_SECRET_ACCESS_KEY and AWS_NO_SIGN_REQUEST configuration options not defined, and /Users/pohle/.aws/credentials not filled\n",
      "Warning: cannot read s3://deafrica-input-datasets/alos_palsar_mosaic/2007/S10E030/S10E030_07_sl_linci_F__DAR.tif : AWS_SECRET_ACCESS_KEY and AWS_NO_SIGN_REQUEST configuration options not defined, and /Users/pohle/.aws/credentials not filled\n",
      "cci_landcover\n",
      "Warning: cannot read s3://deafrica-input-datasets/cci_landcover/1992/cci_landcover_1992_v2.0.7cds.tif : AWS_SECRET_ACCESS_KEY and AWS_NO_SIGN_REQUEST configuration options not defined, and /Users/pohle/.aws/credentials not filled\n",
      "cgls_landcover\n"
     ]
    },
    {
     "ename": "KeyboardInterrupt",
     "evalue": "",
     "output_type": "error",
     "traceback": [
      "\u001b[31m---------------------------------------------------------------------------\u001b[39m",
      "\u001b[31mKeyboardInterrupt\u001b[39m                         Traceback (most recent call last)",
      "\u001b[36mCell\u001b[39m\u001b[36m \u001b[39m\u001b[32mIn[3]\u001b[39m\u001b[32m, line 52\u001b[39m\n\u001b[32m     50\u001b[39m \u001b[38;5;66;03m# Fetch first item for collection\u001b[39;00m\n\u001b[32m     51\u001b[39m params = {\u001b[33m\"\u001b[39m\u001b[33mcollection\u001b[39m\u001b[33m\"\u001b[39m: col_id, \u001b[33m\"\u001b[39m\u001b[33mlimit\u001b[39m\u001b[33m\"\u001b[39m: \u001b[32m1\u001b[39m}\n\u001b[32m---> \u001b[39m\u001b[32m52\u001b[39m response = \u001b[43mrequests\u001b[49m\u001b[43m.\u001b[49m\u001b[43mget\u001b[49m\u001b[43m(\u001b[49m\u001b[43msearch_url\u001b[49m\u001b[43m,\u001b[49m\u001b[43m \u001b[49m\u001b[43mparams\u001b[49m\u001b[43m=\u001b[49m\u001b[43mparams\u001b[49m\u001b[43m)\u001b[49m.json()\n\u001b[32m     53\u001b[39m features = response.get(\u001b[33m\"\u001b[39m\u001b[33mfeatures\u001b[39m\u001b[33m\"\u001b[39m)\n\u001b[32m     54\u001b[39m \u001b[38;5;28;01mif\u001b[39;00m \u001b[38;5;129;01mnot\u001b[39;00m features:\n",
      "\u001b[36mFile \u001b[39m\u001b[32m~/miniconda3/envs/pystac_example/lib/python3.11/site-packages/requests/api.py:73\u001b[39m, in \u001b[36mget\u001b[39m\u001b[34m(url, params, **kwargs)\u001b[39m\n\u001b[32m     62\u001b[39m \u001b[38;5;28;01mdef\u001b[39;00m\u001b[38;5;250m \u001b[39m\u001b[34mget\u001b[39m(url, params=\u001b[38;5;28;01mNone\u001b[39;00m, **kwargs):\n\u001b[32m     63\u001b[39m \u001b[38;5;250m    \u001b[39m\u001b[33mr\u001b[39m\u001b[33;03m\"\"\"Sends a GET request.\u001b[39;00m\n\u001b[32m     64\u001b[39m \n\u001b[32m     65\u001b[39m \u001b[33;03m    :param url: URL for the new :class:`Request` object.\u001b[39;00m\n\u001b[32m   (...)\u001b[39m\u001b[32m     70\u001b[39m \u001b[33;03m    :rtype: requests.Response\u001b[39;00m\n\u001b[32m     71\u001b[39m \u001b[33;03m    \"\"\"\u001b[39;00m\n\u001b[32m---> \u001b[39m\u001b[32m73\u001b[39m     \u001b[38;5;28;01mreturn\u001b[39;00m \u001b[43mrequest\u001b[49m\u001b[43m(\u001b[49m\u001b[33;43m\"\u001b[39;49m\u001b[33;43mget\u001b[39;49m\u001b[33;43m\"\u001b[39;49m\u001b[43m,\u001b[49m\u001b[43m \u001b[49m\u001b[43murl\u001b[49m\u001b[43m,\u001b[49m\u001b[43m \u001b[49m\u001b[43mparams\u001b[49m\u001b[43m=\u001b[49m\u001b[43mparams\u001b[49m\u001b[43m,\u001b[49m\u001b[43m \u001b[49m\u001b[43m*\u001b[49m\u001b[43m*\u001b[49m\u001b[43mkwargs\u001b[49m\u001b[43m)\u001b[49m\n",
      "\u001b[36mFile \u001b[39m\u001b[32m~/miniconda3/envs/pystac_example/lib/python3.11/site-packages/requests/api.py:59\u001b[39m, in \u001b[36mrequest\u001b[39m\u001b[34m(method, url, **kwargs)\u001b[39m\n\u001b[32m     55\u001b[39m \u001b[38;5;66;03m# By using the 'with' statement we are sure the session is closed, thus we\u001b[39;00m\n\u001b[32m     56\u001b[39m \u001b[38;5;66;03m# avoid leaving sockets open which can trigger a ResourceWarning in some\u001b[39;00m\n\u001b[32m     57\u001b[39m \u001b[38;5;66;03m# cases, and look like a memory leak in others.\u001b[39;00m\n\u001b[32m     58\u001b[39m \u001b[38;5;28;01mwith\u001b[39;00m sessions.Session() \u001b[38;5;28;01mas\u001b[39;00m session:\n\u001b[32m---> \u001b[39m\u001b[32m59\u001b[39m     \u001b[38;5;28;01mreturn\u001b[39;00m \u001b[43msession\u001b[49m\u001b[43m.\u001b[49m\u001b[43mrequest\u001b[49m\u001b[43m(\u001b[49m\u001b[43mmethod\u001b[49m\u001b[43m=\u001b[49m\u001b[43mmethod\u001b[49m\u001b[43m,\u001b[49m\u001b[43m \u001b[49m\u001b[43murl\u001b[49m\u001b[43m=\u001b[49m\u001b[43murl\u001b[49m\u001b[43m,\u001b[49m\u001b[43m \u001b[49m\u001b[43m*\u001b[49m\u001b[43m*\u001b[49m\u001b[43mkwargs\u001b[49m\u001b[43m)\u001b[49m\n",
      "\u001b[36mFile \u001b[39m\u001b[32m~/miniconda3/envs/pystac_example/lib/python3.11/site-packages/requests/sessions.py:589\u001b[39m, in \u001b[36mSession.request\u001b[39m\u001b[34m(self, method, url, params, data, headers, cookies, files, auth, timeout, allow_redirects, proxies, hooks, stream, verify, cert, json)\u001b[39m\n\u001b[32m    584\u001b[39m send_kwargs = {\n\u001b[32m    585\u001b[39m     \u001b[33m\"\u001b[39m\u001b[33mtimeout\u001b[39m\u001b[33m\"\u001b[39m: timeout,\n\u001b[32m    586\u001b[39m     \u001b[33m\"\u001b[39m\u001b[33mallow_redirects\u001b[39m\u001b[33m\"\u001b[39m: allow_redirects,\n\u001b[32m    587\u001b[39m }\n\u001b[32m    588\u001b[39m send_kwargs.update(settings)\n\u001b[32m--> \u001b[39m\u001b[32m589\u001b[39m resp = \u001b[38;5;28;43mself\u001b[39;49m\u001b[43m.\u001b[49m\u001b[43msend\u001b[49m\u001b[43m(\u001b[49m\u001b[43mprep\u001b[49m\u001b[43m,\u001b[49m\u001b[43m \u001b[49m\u001b[43m*\u001b[49m\u001b[43m*\u001b[49m\u001b[43msend_kwargs\u001b[49m\u001b[43m)\u001b[49m\n\u001b[32m    591\u001b[39m \u001b[38;5;28;01mreturn\u001b[39;00m resp\n",
      "\u001b[36mFile \u001b[39m\u001b[32m~/miniconda3/envs/pystac_example/lib/python3.11/site-packages/requests/sessions.py:703\u001b[39m, in \u001b[36mSession.send\u001b[39m\u001b[34m(self, request, **kwargs)\u001b[39m\n\u001b[32m    700\u001b[39m start = preferred_clock()\n\u001b[32m    702\u001b[39m \u001b[38;5;66;03m# Send the request\u001b[39;00m\n\u001b[32m--> \u001b[39m\u001b[32m703\u001b[39m r = \u001b[43madapter\u001b[49m\u001b[43m.\u001b[49m\u001b[43msend\u001b[49m\u001b[43m(\u001b[49m\u001b[43mrequest\u001b[49m\u001b[43m,\u001b[49m\u001b[43m \u001b[49m\u001b[43m*\u001b[49m\u001b[43m*\u001b[49m\u001b[43mkwargs\u001b[49m\u001b[43m)\u001b[49m\n\u001b[32m    705\u001b[39m \u001b[38;5;66;03m# Total elapsed time of the request (approximately)\u001b[39;00m\n\u001b[32m    706\u001b[39m elapsed = preferred_clock() - start\n",
      "\u001b[36mFile \u001b[39m\u001b[32m~/miniconda3/envs/pystac_example/lib/python3.11/site-packages/requests/adapters.py:644\u001b[39m, in \u001b[36mHTTPAdapter.send\u001b[39m\u001b[34m(self, request, stream, timeout, verify, cert, proxies)\u001b[39m\n\u001b[32m    641\u001b[39m     timeout = TimeoutSauce(connect=timeout, read=timeout)\n\u001b[32m    643\u001b[39m \u001b[38;5;28;01mtry\u001b[39;00m:\n\u001b[32m--> \u001b[39m\u001b[32m644\u001b[39m     resp = \u001b[43mconn\u001b[49m\u001b[43m.\u001b[49m\u001b[43murlopen\u001b[49m\u001b[43m(\u001b[49m\n\u001b[32m    645\u001b[39m \u001b[43m        \u001b[49m\u001b[43mmethod\u001b[49m\u001b[43m=\u001b[49m\u001b[43mrequest\u001b[49m\u001b[43m.\u001b[49m\u001b[43mmethod\u001b[49m\u001b[43m,\u001b[49m\n\u001b[32m    646\u001b[39m \u001b[43m        \u001b[49m\u001b[43murl\u001b[49m\u001b[43m=\u001b[49m\u001b[43murl\u001b[49m\u001b[43m,\u001b[49m\n\u001b[32m    647\u001b[39m \u001b[43m        \u001b[49m\u001b[43mbody\u001b[49m\u001b[43m=\u001b[49m\u001b[43mrequest\u001b[49m\u001b[43m.\u001b[49m\u001b[43mbody\u001b[49m\u001b[43m,\u001b[49m\n\u001b[32m    648\u001b[39m \u001b[43m        \u001b[49m\u001b[43mheaders\u001b[49m\u001b[43m=\u001b[49m\u001b[43mrequest\u001b[49m\u001b[43m.\u001b[49m\u001b[43mheaders\u001b[49m\u001b[43m,\u001b[49m\n\u001b[32m    649\u001b[39m \u001b[43m        \u001b[49m\u001b[43mredirect\u001b[49m\u001b[43m=\u001b[49m\u001b[38;5;28;43;01mFalse\u001b[39;49;00m\u001b[43m,\u001b[49m\n\u001b[32m    650\u001b[39m \u001b[43m        \u001b[49m\u001b[43massert_same_host\u001b[49m\u001b[43m=\u001b[49m\u001b[38;5;28;43;01mFalse\u001b[39;49;00m\u001b[43m,\u001b[49m\n\u001b[32m    651\u001b[39m \u001b[43m        \u001b[49m\u001b[43mpreload_content\u001b[49m\u001b[43m=\u001b[49m\u001b[38;5;28;43;01mFalse\u001b[39;49;00m\u001b[43m,\u001b[49m\n\u001b[32m    652\u001b[39m \u001b[43m        \u001b[49m\u001b[43mdecode_content\u001b[49m\u001b[43m=\u001b[49m\u001b[38;5;28;43;01mFalse\u001b[39;49;00m\u001b[43m,\u001b[49m\n\u001b[32m    653\u001b[39m \u001b[43m        \u001b[49m\u001b[43mretries\u001b[49m\u001b[43m=\u001b[49m\u001b[38;5;28;43mself\u001b[39;49m\u001b[43m.\u001b[49m\u001b[43mmax_retries\u001b[49m\u001b[43m,\u001b[49m\n\u001b[32m    654\u001b[39m \u001b[43m        \u001b[49m\u001b[43mtimeout\u001b[49m\u001b[43m=\u001b[49m\u001b[43mtimeout\u001b[49m\u001b[43m,\u001b[49m\n\u001b[32m    655\u001b[39m \u001b[43m        \u001b[49m\u001b[43mchunked\u001b[49m\u001b[43m=\u001b[49m\u001b[43mchunked\u001b[49m\u001b[43m,\u001b[49m\n\u001b[32m    656\u001b[39m \u001b[43m    \u001b[49m\u001b[43m)\u001b[49m\n\u001b[32m    658\u001b[39m \u001b[38;5;28;01mexcept\u001b[39;00m (ProtocolError, \u001b[38;5;167;01mOSError\u001b[39;00m) \u001b[38;5;28;01mas\u001b[39;00m err:\n\u001b[32m    659\u001b[39m     \u001b[38;5;28;01mraise\u001b[39;00m \u001b[38;5;167;01mConnectionError\u001b[39;00m(err, request=request)\n",
      "\u001b[36mFile \u001b[39m\u001b[32m~/miniconda3/envs/pystac_example/lib/python3.11/site-packages/urllib3/connectionpool.py:787\u001b[39m, in \u001b[36mHTTPConnectionPool.urlopen\u001b[39m\u001b[34m(self, method, url, body, headers, retries, redirect, assert_same_host, timeout, pool_timeout, release_conn, chunked, body_pos, preload_content, decode_content, **response_kw)\u001b[39m\n\u001b[32m    784\u001b[39m response_conn = conn \u001b[38;5;28;01mif\u001b[39;00m \u001b[38;5;129;01mnot\u001b[39;00m release_conn \u001b[38;5;28;01melse\u001b[39;00m \u001b[38;5;28;01mNone\u001b[39;00m\n\u001b[32m    786\u001b[39m \u001b[38;5;66;03m# Make the request on the HTTPConnection object\u001b[39;00m\n\u001b[32m--> \u001b[39m\u001b[32m787\u001b[39m response = \u001b[38;5;28;43mself\u001b[39;49m\u001b[43m.\u001b[49m\u001b[43m_make_request\u001b[49m\u001b[43m(\u001b[49m\n\u001b[32m    788\u001b[39m \u001b[43m    \u001b[49m\u001b[43mconn\u001b[49m\u001b[43m,\u001b[49m\n\u001b[32m    789\u001b[39m \u001b[43m    \u001b[49m\u001b[43mmethod\u001b[49m\u001b[43m,\u001b[49m\n\u001b[32m    790\u001b[39m \u001b[43m    \u001b[49m\u001b[43murl\u001b[49m\u001b[43m,\u001b[49m\n\u001b[32m    791\u001b[39m \u001b[43m    \u001b[49m\u001b[43mtimeout\u001b[49m\u001b[43m=\u001b[49m\u001b[43mtimeout_obj\u001b[49m\u001b[43m,\u001b[49m\n\u001b[32m    792\u001b[39m \u001b[43m    \u001b[49m\u001b[43mbody\u001b[49m\u001b[43m=\u001b[49m\u001b[43mbody\u001b[49m\u001b[43m,\u001b[49m\n\u001b[32m    793\u001b[39m \u001b[43m    \u001b[49m\u001b[43mheaders\u001b[49m\u001b[43m=\u001b[49m\u001b[43mheaders\u001b[49m\u001b[43m,\u001b[49m\n\u001b[32m    794\u001b[39m \u001b[43m    \u001b[49m\u001b[43mchunked\u001b[49m\u001b[43m=\u001b[49m\u001b[43mchunked\u001b[49m\u001b[43m,\u001b[49m\n\u001b[32m    795\u001b[39m \u001b[43m    \u001b[49m\u001b[43mretries\u001b[49m\u001b[43m=\u001b[49m\u001b[43mretries\u001b[49m\u001b[43m,\u001b[49m\n\u001b[32m    796\u001b[39m \u001b[43m    \u001b[49m\u001b[43mresponse_conn\u001b[49m\u001b[43m=\u001b[49m\u001b[43mresponse_conn\u001b[49m\u001b[43m,\u001b[49m\n\u001b[32m    797\u001b[39m \u001b[43m    \u001b[49m\u001b[43mpreload_content\u001b[49m\u001b[43m=\u001b[49m\u001b[43mpreload_content\u001b[49m\u001b[43m,\u001b[49m\n\u001b[32m    798\u001b[39m \u001b[43m    \u001b[49m\u001b[43mdecode_content\u001b[49m\u001b[43m=\u001b[49m\u001b[43mdecode_content\u001b[49m\u001b[43m,\u001b[49m\n\u001b[32m    799\u001b[39m \u001b[43m    \u001b[49m\u001b[43m*\u001b[49m\u001b[43m*\u001b[49m\u001b[43mresponse_kw\u001b[49m\u001b[43m,\u001b[49m\n\u001b[32m    800\u001b[39m \u001b[43m\u001b[49m\u001b[43m)\u001b[49m\n\u001b[32m    802\u001b[39m \u001b[38;5;66;03m# Everything went great!\u001b[39;00m\n\u001b[32m    803\u001b[39m clean_exit = \u001b[38;5;28;01mTrue\u001b[39;00m\n",
      "\u001b[36mFile \u001b[39m\u001b[32m~/miniconda3/envs/pystac_example/lib/python3.11/site-packages/urllib3/connectionpool.py:464\u001b[39m, in \u001b[36mHTTPConnectionPool._make_request\u001b[39m\u001b[34m(self, conn, method, url, body, headers, retries, timeout, chunked, response_conn, preload_content, decode_content, enforce_content_length)\u001b[39m\n\u001b[32m    461\u001b[39m \u001b[38;5;28;01mtry\u001b[39;00m:\n\u001b[32m    462\u001b[39m     \u001b[38;5;66;03m# Trigger any extra validation we need to do.\u001b[39;00m\n\u001b[32m    463\u001b[39m     \u001b[38;5;28;01mtry\u001b[39;00m:\n\u001b[32m--> \u001b[39m\u001b[32m464\u001b[39m         \u001b[38;5;28;43mself\u001b[39;49m\u001b[43m.\u001b[49m\u001b[43m_validate_conn\u001b[49m\u001b[43m(\u001b[49m\u001b[43mconn\u001b[49m\u001b[43m)\u001b[49m\n\u001b[32m    465\u001b[39m     \u001b[38;5;28;01mexcept\u001b[39;00m (SocketTimeout, BaseSSLError) \u001b[38;5;28;01mas\u001b[39;00m e:\n\u001b[32m    466\u001b[39m         \u001b[38;5;28mself\u001b[39m._raise_timeout(err=e, url=url, timeout_value=conn.timeout)\n",
      "\u001b[36mFile \u001b[39m\u001b[32m~/miniconda3/envs/pystac_example/lib/python3.11/site-packages/urllib3/connectionpool.py:1093\u001b[39m, in \u001b[36mHTTPSConnectionPool._validate_conn\u001b[39m\u001b[34m(self, conn)\u001b[39m\n\u001b[32m   1091\u001b[39m \u001b[38;5;66;03m# Force connect early to allow us to validate the connection.\u001b[39;00m\n\u001b[32m   1092\u001b[39m \u001b[38;5;28;01mif\u001b[39;00m conn.is_closed:\n\u001b[32m-> \u001b[39m\u001b[32m1093\u001b[39m     \u001b[43mconn\u001b[49m\u001b[43m.\u001b[49m\u001b[43mconnect\u001b[49m\u001b[43m(\u001b[49m\u001b[43m)\u001b[49m\n\u001b[32m   1095\u001b[39m \u001b[38;5;66;03m# TODO revise this, see https://github.com/urllib3/urllib3/issues/2791\u001b[39;00m\n\u001b[32m   1096\u001b[39m \u001b[38;5;28;01mif\u001b[39;00m \u001b[38;5;129;01mnot\u001b[39;00m conn.is_verified \u001b[38;5;129;01mand\u001b[39;00m \u001b[38;5;129;01mnot\u001b[39;00m conn.proxy_is_verified:\n",
      "\u001b[36mFile \u001b[39m\u001b[32m~/miniconda3/envs/pystac_example/lib/python3.11/site-packages/urllib3/connection.py:790\u001b[39m, in \u001b[36mHTTPSConnection.connect\u001b[39m\u001b[34m(self)\u001b[39m\n\u001b[32m    787\u001b[39m     \u001b[38;5;66;03m# Remove trailing '.' from fqdn hostnames to allow certificate validation\u001b[39;00m\n\u001b[32m    788\u001b[39m     server_hostname_rm_dot = server_hostname.rstrip(\u001b[33m\"\u001b[39m\u001b[33m.\u001b[39m\u001b[33m\"\u001b[39m)\n\u001b[32m--> \u001b[39m\u001b[32m790\u001b[39m     sock_and_verified = \u001b[43m_ssl_wrap_socket_and_match_hostname\u001b[49m\u001b[43m(\u001b[49m\n\u001b[32m    791\u001b[39m \u001b[43m        \u001b[49m\u001b[43msock\u001b[49m\u001b[43m=\u001b[49m\u001b[43msock\u001b[49m\u001b[43m,\u001b[49m\n\u001b[32m    792\u001b[39m \u001b[43m        \u001b[49m\u001b[43mcert_reqs\u001b[49m\u001b[43m=\u001b[49m\u001b[38;5;28;43mself\u001b[39;49m\u001b[43m.\u001b[49m\u001b[43mcert_reqs\u001b[49m\u001b[43m,\u001b[49m\n\u001b[32m    793\u001b[39m \u001b[43m        \u001b[49m\u001b[43mssl_version\u001b[49m\u001b[43m=\u001b[49m\u001b[38;5;28;43mself\u001b[39;49m\u001b[43m.\u001b[49m\u001b[43mssl_version\u001b[49m\u001b[43m,\u001b[49m\n\u001b[32m    794\u001b[39m \u001b[43m        \u001b[49m\u001b[43mssl_minimum_version\u001b[49m\u001b[43m=\u001b[49m\u001b[38;5;28;43mself\u001b[39;49m\u001b[43m.\u001b[49m\u001b[43mssl_minimum_version\u001b[49m\u001b[43m,\u001b[49m\n\u001b[32m    795\u001b[39m \u001b[43m        \u001b[49m\u001b[43mssl_maximum_version\u001b[49m\u001b[43m=\u001b[49m\u001b[38;5;28;43mself\u001b[39;49m\u001b[43m.\u001b[49m\u001b[43mssl_maximum_version\u001b[49m\u001b[43m,\u001b[49m\n\u001b[32m    796\u001b[39m \u001b[43m        \u001b[49m\u001b[43mca_certs\u001b[49m\u001b[43m=\u001b[49m\u001b[38;5;28;43mself\u001b[39;49m\u001b[43m.\u001b[49m\u001b[43mca_certs\u001b[49m\u001b[43m,\u001b[49m\n\u001b[32m    797\u001b[39m \u001b[43m        \u001b[49m\u001b[43mca_cert_dir\u001b[49m\u001b[43m=\u001b[49m\u001b[38;5;28;43mself\u001b[39;49m\u001b[43m.\u001b[49m\u001b[43mca_cert_dir\u001b[49m\u001b[43m,\u001b[49m\n\u001b[32m    798\u001b[39m \u001b[43m        \u001b[49m\u001b[43mca_cert_data\u001b[49m\u001b[43m=\u001b[49m\u001b[38;5;28;43mself\u001b[39;49m\u001b[43m.\u001b[49m\u001b[43mca_cert_data\u001b[49m\u001b[43m,\u001b[49m\n\u001b[32m    799\u001b[39m \u001b[43m        \u001b[49m\u001b[43mcert_file\u001b[49m\u001b[43m=\u001b[49m\u001b[38;5;28;43mself\u001b[39;49m\u001b[43m.\u001b[49m\u001b[43mcert_file\u001b[49m\u001b[43m,\u001b[49m\n\u001b[32m    800\u001b[39m \u001b[43m        \u001b[49m\u001b[43mkey_file\u001b[49m\u001b[43m=\u001b[49m\u001b[38;5;28;43mself\u001b[39;49m\u001b[43m.\u001b[49m\u001b[43mkey_file\u001b[49m\u001b[43m,\u001b[49m\n\u001b[32m    801\u001b[39m \u001b[43m        \u001b[49m\u001b[43mkey_password\u001b[49m\u001b[43m=\u001b[49m\u001b[38;5;28;43mself\u001b[39;49m\u001b[43m.\u001b[49m\u001b[43mkey_password\u001b[49m\u001b[43m,\u001b[49m\n\u001b[32m    802\u001b[39m \u001b[43m        \u001b[49m\u001b[43mserver_hostname\u001b[49m\u001b[43m=\u001b[49m\u001b[43mserver_hostname_rm_dot\u001b[49m\u001b[43m,\u001b[49m\n\u001b[32m    803\u001b[39m \u001b[43m        \u001b[49m\u001b[43mssl_context\u001b[49m\u001b[43m=\u001b[49m\u001b[38;5;28;43mself\u001b[39;49m\u001b[43m.\u001b[49m\u001b[43mssl_context\u001b[49m\u001b[43m,\u001b[49m\n\u001b[32m    804\u001b[39m \u001b[43m        \u001b[49m\u001b[43mtls_in_tls\u001b[49m\u001b[43m=\u001b[49m\u001b[43mtls_in_tls\u001b[49m\u001b[43m,\u001b[49m\n\u001b[32m    805\u001b[39m \u001b[43m        \u001b[49m\u001b[43massert_hostname\u001b[49m\u001b[43m=\u001b[49m\u001b[38;5;28;43mself\u001b[39;49m\u001b[43m.\u001b[49m\u001b[43massert_hostname\u001b[49m\u001b[43m,\u001b[49m\n\u001b[32m    806\u001b[39m \u001b[43m        \u001b[49m\u001b[43massert_fingerprint\u001b[49m\u001b[43m=\u001b[49m\u001b[38;5;28;43mself\u001b[39;49m\u001b[43m.\u001b[49m\u001b[43massert_fingerprint\u001b[49m\u001b[43m,\u001b[49m\n\u001b[32m    807\u001b[39m \u001b[43m    \u001b[49m\u001b[43m)\u001b[49m\n\u001b[32m    808\u001b[39m     \u001b[38;5;28mself\u001b[39m.sock = sock_and_verified.socket\n\u001b[32m    810\u001b[39m \u001b[38;5;66;03m# If an error occurs during connection/handshake we may need to release\u001b[39;00m\n\u001b[32m    811\u001b[39m \u001b[38;5;66;03m# our lock so another connection can probe the origin.\u001b[39;00m\n",
      "\u001b[36mFile \u001b[39m\u001b[32m~/miniconda3/envs/pystac_example/lib/python3.11/site-packages/urllib3/connection.py:969\u001b[39m, in \u001b[36m_ssl_wrap_socket_and_match_hostname\u001b[39m\u001b[34m(sock, cert_reqs, ssl_version, ssl_minimum_version, ssl_maximum_version, cert_file, key_file, key_password, ca_certs, ca_cert_dir, ca_cert_data, assert_hostname, assert_fingerprint, server_hostname, ssl_context, tls_in_tls)\u001b[39m\n\u001b[32m    966\u001b[39m     \u001b[38;5;28;01mif\u001b[39;00m is_ipaddress(normalized):\n\u001b[32m    967\u001b[39m         server_hostname = normalized\n\u001b[32m--> \u001b[39m\u001b[32m969\u001b[39m ssl_sock = \u001b[43mssl_wrap_socket\u001b[49m\u001b[43m(\u001b[49m\n\u001b[32m    970\u001b[39m \u001b[43m    \u001b[49m\u001b[43msock\u001b[49m\u001b[43m=\u001b[49m\u001b[43msock\u001b[49m\u001b[43m,\u001b[49m\n\u001b[32m    971\u001b[39m \u001b[43m    \u001b[49m\u001b[43mkeyfile\u001b[49m\u001b[43m=\u001b[49m\u001b[43mkey_file\u001b[49m\u001b[43m,\u001b[49m\n\u001b[32m    972\u001b[39m \u001b[43m    \u001b[49m\u001b[43mcertfile\u001b[49m\u001b[43m=\u001b[49m\u001b[43mcert_file\u001b[49m\u001b[43m,\u001b[49m\n\u001b[32m    973\u001b[39m \u001b[43m    \u001b[49m\u001b[43mkey_password\u001b[49m\u001b[43m=\u001b[49m\u001b[43mkey_password\u001b[49m\u001b[43m,\u001b[49m\n\u001b[32m    974\u001b[39m \u001b[43m    \u001b[49m\u001b[43mca_certs\u001b[49m\u001b[43m=\u001b[49m\u001b[43mca_certs\u001b[49m\u001b[43m,\u001b[49m\n\u001b[32m    975\u001b[39m \u001b[43m    \u001b[49m\u001b[43mca_cert_dir\u001b[49m\u001b[43m=\u001b[49m\u001b[43mca_cert_dir\u001b[49m\u001b[43m,\u001b[49m\n\u001b[32m    976\u001b[39m \u001b[43m    \u001b[49m\u001b[43mca_cert_data\u001b[49m\u001b[43m=\u001b[49m\u001b[43mca_cert_data\u001b[49m\u001b[43m,\u001b[49m\n\u001b[32m    977\u001b[39m \u001b[43m    \u001b[49m\u001b[43mserver_hostname\u001b[49m\u001b[43m=\u001b[49m\u001b[43mserver_hostname\u001b[49m\u001b[43m,\u001b[49m\n\u001b[32m    978\u001b[39m \u001b[43m    \u001b[49m\u001b[43mssl_context\u001b[49m\u001b[43m=\u001b[49m\u001b[43mcontext\u001b[49m\u001b[43m,\u001b[49m\n\u001b[32m    979\u001b[39m \u001b[43m    \u001b[49m\u001b[43mtls_in_tls\u001b[49m\u001b[43m=\u001b[49m\u001b[43mtls_in_tls\u001b[49m\u001b[43m,\u001b[49m\n\u001b[32m    980\u001b[39m \u001b[43m\u001b[49m\u001b[43m)\u001b[49m\n\u001b[32m    982\u001b[39m \u001b[38;5;28;01mtry\u001b[39;00m:\n\u001b[32m    983\u001b[39m     \u001b[38;5;28;01mif\u001b[39;00m assert_fingerprint:\n",
      "\u001b[36mFile \u001b[39m\u001b[32m~/miniconda3/envs/pystac_example/lib/python3.11/site-packages/urllib3/util/ssl_.py:480\u001b[39m, in \u001b[36mssl_wrap_socket\u001b[39m\u001b[34m(sock, keyfile, certfile, cert_reqs, ca_certs, server_hostname, ssl_version, ciphers, ssl_context, ca_cert_dir, key_password, ca_cert_data, tls_in_tls)\u001b[39m\n\u001b[32m    476\u001b[39m         context.load_cert_chain(certfile, keyfile, key_password)\n\u001b[32m    478\u001b[39m context.set_alpn_protocols(ALPN_PROTOCOLS)\n\u001b[32m--> \u001b[39m\u001b[32m480\u001b[39m ssl_sock = \u001b[43m_ssl_wrap_socket_impl\u001b[49m\u001b[43m(\u001b[49m\u001b[43msock\u001b[49m\u001b[43m,\u001b[49m\u001b[43m \u001b[49m\u001b[43mcontext\u001b[49m\u001b[43m,\u001b[49m\u001b[43m \u001b[49m\u001b[43mtls_in_tls\u001b[49m\u001b[43m,\u001b[49m\u001b[43m \u001b[49m\u001b[43mserver_hostname\u001b[49m\u001b[43m)\u001b[49m\n\u001b[32m    481\u001b[39m \u001b[38;5;28;01mreturn\u001b[39;00m ssl_sock\n",
      "\u001b[36mFile \u001b[39m\u001b[32m~/miniconda3/envs/pystac_example/lib/python3.11/site-packages/urllib3/util/ssl_.py:524\u001b[39m, in \u001b[36m_ssl_wrap_socket_impl\u001b[39m\u001b[34m(sock, ssl_context, tls_in_tls, server_hostname)\u001b[39m\n\u001b[32m    521\u001b[39m     SSLTransport._validate_ssl_context_for_tls_in_tls(ssl_context)\n\u001b[32m    522\u001b[39m     \u001b[38;5;28;01mreturn\u001b[39;00m SSLTransport(sock, ssl_context, server_hostname)\n\u001b[32m--> \u001b[39m\u001b[32m524\u001b[39m \u001b[38;5;28;01mreturn\u001b[39;00m \u001b[43mssl_context\u001b[49m\u001b[43m.\u001b[49m\u001b[43mwrap_socket\u001b[49m\u001b[43m(\u001b[49m\u001b[43msock\u001b[49m\u001b[43m,\u001b[49m\u001b[43m \u001b[49m\u001b[43mserver_hostname\u001b[49m\u001b[43m=\u001b[49m\u001b[43mserver_hostname\u001b[49m\u001b[43m)\u001b[49m\n",
      "\u001b[36mFile \u001b[39m\u001b[32m~/miniconda3/envs/pystac_example/lib/python3.11/ssl.py:517\u001b[39m, in \u001b[36mSSLContext.wrap_socket\u001b[39m\u001b[34m(self, sock, server_side, do_handshake_on_connect, suppress_ragged_eofs, server_hostname, session)\u001b[39m\n\u001b[32m    511\u001b[39m \u001b[38;5;28;01mdef\u001b[39;00m\u001b[38;5;250m \u001b[39m\u001b[34mwrap_socket\u001b[39m(\u001b[38;5;28mself\u001b[39m, sock, server_side=\u001b[38;5;28;01mFalse\u001b[39;00m,\n\u001b[32m    512\u001b[39m                 do_handshake_on_connect=\u001b[38;5;28;01mTrue\u001b[39;00m,\n\u001b[32m    513\u001b[39m                 suppress_ragged_eofs=\u001b[38;5;28;01mTrue\u001b[39;00m,\n\u001b[32m    514\u001b[39m                 server_hostname=\u001b[38;5;28;01mNone\u001b[39;00m, session=\u001b[38;5;28;01mNone\u001b[39;00m):\n\u001b[32m    515\u001b[39m     \u001b[38;5;66;03m# SSLSocket class handles server_hostname encoding before it calls\u001b[39;00m\n\u001b[32m    516\u001b[39m     \u001b[38;5;66;03m# ctx._wrap_socket()\u001b[39;00m\n\u001b[32m--> \u001b[39m\u001b[32m517\u001b[39m     \u001b[38;5;28;01mreturn\u001b[39;00m \u001b[38;5;28;43mself\u001b[39;49m\u001b[43m.\u001b[49m\u001b[43msslsocket_class\u001b[49m\u001b[43m.\u001b[49m\u001b[43m_create\u001b[49m\u001b[43m(\u001b[49m\n\u001b[32m    518\u001b[39m \u001b[43m        \u001b[49m\u001b[43msock\u001b[49m\u001b[43m=\u001b[49m\u001b[43msock\u001b[49m\u001b[43m,\u001b[49m\n\u001b[32m    519\u001b[39m \u001b[43m        \u001b[49m\u001b[43mserver_side\u001b[49m\u001b[43m=\u001b[49m\u001b[43mserver_side\u001b[49m\u001b[43m,\u001b[49m\n\u001b[32m    520\u001b[39m \u001b[43m        \u001b[49m\u001b[43mdo_handshake_on_connect\u001b[49m\u001b[43m=\u001b[49m\u001b[43mdo_handshake_on_connect\u001b[49m\u001b[43m,\u001b[49m\n\u001b[32m    521\u001b[39m \u001b[43m        \u001b[49m\u001b[43msuppress_ragged_eofs\u001b[49m\u001b[43m=\u001b[49m\u001b[43msuppress_ragged_eofs\u001b[49m\u001b[43m,\u001b[49m\n\u001b[32m    522\u001b[39m \u001b[43m        \u001b[49m\u001b[43mserver_hostname\u001b[49m\u001b[43m=\u001b[49m\u001b[43mserver_hostname\u001b[49m\u001b[43m,\u001b[49m\n\u001b[32m    523\u001b[39m \u001b[43m        \u001b[49m\u001b[43mcontext\u001b[49m\u001b[43m=\u001b[49m\u001b[38;5;28;43mself\u001b[39;49m\u001b[43m,\u001b[49m\n\u001b[32m    524\u001b[39m \u001b[43m        \u001b[49m\u001b[43msession\u001b[49m\u001b[43m=\u001b[49m\u001b[43msession\u001b[49m\n\u001b[32m    525\u001b[39m \u001b[43m    \u001b[49m\u001b[43m)\u001b[49m\n",
      "\u001b[36mFile \u001b[39m\u001b[32m~/miniconda3/envs/pystac_example/lib/python3.11/ssl.py:1104\u001b[39m, in \u001b[36mSSLSocket._create\u001b[39m\u001b[34m(cls, sock, server_side, do_handshake_on_connect, suppress_ragged_eofs, server_hostname, context, session)\u001b[39m\n\u001b[32m   1101\u001b[39m             \u001b[38;5;28;01mif\u001b[39;00m timeout == \u001b[32m0.0\u001b[39m:\n\u001b[32m   1102\u001b[39m                 \u001b[38;5;66;03m# non-blocking\u001b[39;00m\n\u001b[32m   1103\u001b[39m                 \u001b[38;5;28;01mraise\u001b[39;00m \u001b[38;5;167;01mValueError\u001b[39;00m(\u001b[33m\"\u001b[39m\u001b[33mdo_handshake_on_connect should not be specified for non-blocking sockets\u001b[39m\u001b[33m\"\u001b[39m)\n\u001b[32m-> \u001b[39m\u001b[32m1104\u001b[39m             \u001b[38;5;28;43mself\u001b[39;49m\u001b[43m.\u001b[49m\u001b[43mdo_handshake\u001b[49m\u001b[43m(\u001b[49m\u001b[43m)\u001b[49m\n\u001b[32m   1105\u001b[39m \u001b[38;5;28;01mexcept\u001b[39;00m:\n\u001b[32m   1106\u001b[39m     \u001b[38;5;28;01mtry\u001b[39;00m:\n",
      "\u001b[36mFile \u001b[39m\u001b[32m~/miniconda3/envs/pystac_example/lib/python3.11/ssl.py:1382\u001b[39m, in \u001b[36mSSLSocket.do_handshake\u001b[39m\u001b[34m(self, block)\u001b[39m\n\u001b[32m   1380\u001b[39m     \u001b[38;5;28;01mif\u001b[39;00m timeout == \u001b[32m0.0\u001b[39m \u001b[38;5;129;01mand\u001b[39;00m block:\n\u001b[32m   1381\u001b[39m         \u001b[38;5;28mself\u001b[39m.settimeout(\u001b[38;5;28;01mNone\u001b[39;00m)\n\u001b[32m-> \u001b[39m\u001b[32m1382\u001b[39m     \u001b[38;5;28;43mself\u001b[39;49m\u001b[43m.\u001b[49m\u001b[43m_sslobj\u001b[49m\u001b[43m.\u001b[49m\u001b[43mdo_handshake\u001b[49m\u001b[43m(\u001b[49m\u001b[43m)\u001b[49m\n\u001b[32m   1383\u001b[39m \u001b[38;5;28;01mfinally\u001b[39;00m:\n\u001b[32m   1384\u001b[39m     \u001b[38;5;28mself\u001b[39m.settimeout(timeout)\n",
      "\u001b[31mKeyboardInterrupt\u001b[39m: "
     ]
    }
   ],
   "source": [
    "import requests\n",
    "import pandas as pd\n",
    "import rasterio\n",
    "from rasterio.warp import transform_bounds\n",
    "\n",
    "# --- INPUT CSV (Swiss DC reference) ---\n",
    "df = pd.read_csv(\"../data/measurements_SwissDC_2024.csv\")\n",
    "\n",
    "# --- AFRICAN DATA CUBE STAC URLs ---\n",
    "collections_url = \"https://explorer.digitalearth.africa/stac/collections\"\n",
    "search_url = \"https://explorer.digitalearth.africa/stac/search\"\n",
    "\n",
    "# Fetch all collections\n",
    "collections = requests.get(collections_url).json()[\"collections\"]\n",
    "\n",
    "# --- FUNCTION: compute resolution from GeoTIFF using rasterio ---\n",
    "def get_resolution_from_asset(asset_url):\n",
    "    \"\"\"\n",
    "    Compute approximate resolution in meters from a GeoTIFF asset using rasterio.\n",
    "    Returns None if asset cannot be accessed.\n",
    "    \"\"\"\n",
    "    try:\n",
    "        with rasterio.Env():\n",
    "            with rasterio.open(asset_url) as src:\n",
    "                if src.crs.is_geographic:\n",
    "                    lon_center = (src.bounds.left + src.bounds.right) / 2\n",
    "                    lat_center = (src.bounds.bottom + src.bounds.top) / 2\n",
    "                    utm_zone = int((lon_center + 180) / 6) + 1\n",
    "                    utm_crs = f\"+proj=utm +zone={utm_zone} +datum=WGS84 +units=m +no_defs\"\n",
    "                    bounds_utm = transform_bounds(src.crs, utm_crs, *src.bounds)\n",
    "                    width_m = bounds_utm[2] - bounds_utm[0]\n",
    "                    height_m = bounds_utm[3] - bounds_utm[1]\n",
    "                    res_x = width_m / src.width\n",
    "                    res_y = height_m / src.height\n",
    "                else:\n",
    "                    res_x, res_y = src.res\n",
    "                res_m = (abs(res_x) + abs(res_y)) / 2\n",
    "                return int(round(res_m))\n",
    "    except Exception as e:\n",
    "        print(\"Warning: cannot read\", asset_url, \":\", e)\n",
    "        return None\n",
    "\n",
    "# --- MAIN LOOP ---\n",
    "rows = []\n",
    "\n",
    "for col in collections:\n",
    "    col_id = col[\"id\"]\n",
    "    print(col_id)\n",
    "\n",
    "    # Fetch first item for collection\n",
    "    params = {\"collection\": col_id, \"limit\": 1}\n",
    "    response = requests.get(search_url, params=params).json()\n",
    "    features = response.get(\"features\")\n",
    "    if not features:\n",
    "        continue\n",
    "\n",
    "    item = features[0]\n",
    "    props = item[\"properties\"]\n",
    "    assets = item.get(\"assets\", {})\n",
    "\n",
    "    for meas_name, asset in assets.items():\n",
    "        asset_url = asset.get(\"href\")\n",
    "        resolution = get_resolution_from_asset(asset_url) if asset_url else None\n",
    "\n",
    "        # dtype and units\n",
    "        dtype = \"int16\" if asset.get(\"type\",\"\").lower().endswith(\"geotiff\") else \"\"\n",
    "        units = \"category\" if dtype == \"int16\" else \"\"\n",
    "\n",
    "        # Aliases from eo:bands if asset was readable\n",
    "        eo_bands = asset.get(\"eo:bands\") or []\n",
    "        if eo_bands and resolution is not None:\n",
    "            aliases_list = [b.get(\"name\",\"\") or b.get(\"description\",\"\") or \"\" for b in eo_bands]\n",
    "            aliases = str(aliases_list)\n",
    "        else:\n",
    "            aliases = \"\"\n",
    "\n",
    "        row = {\n",
    "            \"product\": props.get(\"odc:product\"),\n",
    "            \"measurement\": meas_name,\n",
    "            \"name\": meas_name,\n",
    "            \"dtype\": dtype,\n",
    "            \"units\": units,\n",
    "            \"nodata\": 0,\n",
    "            \"aliases\": aliases,\n",
    "            \"flags_definition\": \"\",\n",
    "            \"resolution\": resolution,\n",
    "            \"time_start\": props.get(\"start_datetime\"),\n",
    "            \"time_end\": props.get(\"end_datetime\")\n",
    "        }\n",
    "        rows.append(row)\n",
    "\n",
    "# Create DataFrame\n",
    "df_new = pd.DataFrame(rows)\n",
    "\n",
    "# Skip unwanted products\n",
    "skip_products = [\"arealstatistik\", \"corinelc_europe\"]\n",
    "df_new = df_new[~df_new[\"product\"].isin(skip_products)]\n",
    "\n",
    "# --- SAVE CSV ---\n",
    "df_new.to_csv(\"measurements_AfricanDC.csv\", index=False)\n",
    "print(\"measurements_AfricanDC.csv created with\", len(df_new), \"rows\")\n"
   ]
  },
  {
   "cell_type": "code",
   "execution_count": null,
   "id": "d6f94106-c49a-4ba3-b16b-f699f7ba2633",
   "metadata": {},
   "outputs": [],
   "source": []
  }
 ],
 "metadata": {
  "kernelspec": {
   "display_name": "Python 3 (ipykernel)",
   "language": "python",
   "name": "python3"
  },
  "language_info": {
   "codemirror_mode": {
    "name": "ipython",
    "version": 3
   },
   "file_extension": ".py",
   "mimetype": "text/x-python",
   "name": "python",
   "nbconvert_exporter": "python",
   "pygments_lexer": "ipython3",
   "version": "3.11.13"
  }
 },
 "nbformat": 4,
 "nbformat_minor": 5
}
