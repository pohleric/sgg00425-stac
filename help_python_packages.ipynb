{
 "cells": [
  {
   "cell_type": "code",
   "execution_count": null,
   "id": "a44001fb-3417-4179-9ef8-7a8600385caf",
   "metadata": {},
   "outputs": [],
   "source": [
    "%%html\n",
    "<style>\n",
    "    .dothis{\n",
    "    font-weight: bold;\n",
    "    color: #ff7f0e;\n",
    "    font-size:large\n",
    "    }\n",
    "</style>"
   ]
  },
  {
   "cell_type": "markdown",
   "id": "3153502f-e781-4b9f-bed5-f0f281d9b8f1",
   "metadata": {},
   "source": [
    "# Python Packages and Modules\n",
    "\n",
    "Python has lots of built-in modules that contain useful functions and data types for doing specific tasks. But, you can also use extra modules which provide lots more functionality, like we will in this course. \n",
    "\n",
    "The focus here is on how to use these extra modules written by other people.\n",
    "\n",
    "In the future you could also write your own modules.\n",
    "\n",
    "A package contains several related modules that are all grouped together under one name. We will extensively use the NumPy, Pandas, and xarray packages later on. Here, let's try out NumPy."
   ]
  },
  {
   "cell_type": "code",
   "execution_count": null,
   "id": "8df8fdf8-4d0e-4a9d-a540-0e9dc75f2df1",
   "metadata": {},
   "outputs": [],
   "source": [
    "# To use a module, we first need to import it.\n",
    "import numpy"
   ]
  },
  {
   "cell_type": "markdown",
   "id": "adfe6f39-b97a-47e0-93e6-bd6886265bd1",
   "metadata": {},
   "source": [
    "Numpy has loads of functions. You can start to explore whats available in the cell below: locate your cursor after the `.` then press `Tab` on your keyboard to see a pop-up list.\n",
    "\n",
    "Have a look at the `numpy.min` function - start typing `mi` and `min` should appear. If you have \"Contextual Help\" open on the sidebar then you should see some info about it."
   ]
  },
  {
   "cell_type": "code",
   "execution_count": null,
   "id": "2492ef28-c745-4e0a-9445-777337cab56a",
   "metadata": {},
   "outputs": [],
   "source": [
    "numpy."
   ]
  },
  {
   "cell_type": "markdown",
   "id": "cb8d3cc7-aade-4d54-ae39-1504a485201e",
   "metadata": {},
   "source": [
    "<span class=\"dothis\">According to contextual help, what does <tt>numpy.min</tt> do?</span>"
   ]
  },
  {
   "cell_type": "code",
   "execution_count": null,
   "id": "9435c6ba-85b8-489c-a620-a7292eaa0cf1",
   "metadata": {},
   "outputs": [],
   "source": [
    "# Now we can use numpy's sum() function to add up the numbers of a list\n",
    "my_list = [10, 20]\n",
    "print(numpy.sum(my_list))"
   ]
  },
  {
   "cell_type": "markdown",
   "id": "a6bbb01a-d4d7-4eaf-ae04-cebef38c3382",
   "metadata": {},
   "source": [
    "<span class=\"dothis\">Check that the output of the cell above equals 30.</span>"
   ]
  },
  {
   "cell_type": "markdown",
   "id": "df05823c-94a1-46bc-b1af-378cd93fc25c",
   "metadata": {},
   "source": [
    "<span class=\"dothis\">In a new cell below, write a line of code that uses numpy to calculate the mean of <tt>my_list</tt>.</span>"
   ]
  },
  {
   "cell_type": "markdown",
   "id": "d95b8e1e-1b37-42c2-a2b7-943089c1def7",
   "metadata": {},
   "source": [
    "## The `as` keyword\n",
    "Numpy is a very common module to need. Typing `numpy` over and over again can get annoying. So, it is common practice to use the `as` keyword to import a module with an alias. Numpy’s alias is traditionally `np`, and this is the only alias you should ever use for Numpy."
   ]
  },
  {
   "cell_type": "code",
   "execution_count": null,
   "id": "3165e457-24cc-421a-acfb-009812313503",
   "metadata": {},
   "outputs": [],
   "source": [
    "import numpy as np"
   ]
  },
  {
   "cell_type": "code",
   "execution_count": null,
   "id": "1aef6d89-3974-48e5-987c-bd36f3ada6ab",
   "metadata": {},
   "outputs": [],
   "source": [
    "# Now let's use numpy with the np short name:\n",
    "my_list_2 = [5, 20]\n",
    "print(np.sum(my_list_2))"
   ]
  },
  {
   "cell_type": "markdown",
   "id": "3cd6c117-967a-4475-80c2-d1b12d521841",
   "metadata": {},
   "source": [
    "See also http://justinbois.github.io/bootcamp/2020_fsri/lessons/l10_packages_and_modules.html."
   ]
  },
  {
   "cell_type": "markdown",
   "id": "f270b3c3-7237-4800-975c-a28a283f92aa",
   "metadata": {},
   "source": [
    "<span class=\"dothis\">Later on we will use a package called <tt>xarray</tt>. Convention is to import this with the alias <tt>xr</tt>. In a new cell below, write a line of code that will allow us to use <tt>xarray</tt>.</span>"
   ]
  }
 ],
 "metadata": {
  "kernelspec": {
   "display_name": "Python 3 (ipykernel)",
   "language": "python",
   "name": "python3"
  },
  "language_info": {
   "codemirror_mode": {
    "name": "ipython",
    "version": 3
   },
   "file_extension": ".py",
   "mimetype": "text/x-python",
   "name": "python",
   "nbconvert_exporter": "python",
   "pygments_lexer": "ipython3",
   "version": "3.11.13"
  }
 },
 "nbformat": 4,
 "nbformat_minor": 5
}
