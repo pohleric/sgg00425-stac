{
 "cells": [
  {
   "cell_type": "markdown",
   "id": "194cc714-c3de-4138-a73a-42a581e65133",
   "metadata": {},
   "source": [
    "# Graphing/plotting data\n",
    "***\n",
    "This Notebook shows you how to use Pandas to load and plot data. Here, we use two different types of MeteoSwiss data as examples.\n",
    "\n",
    "During the Data Visualisation session we discussed what good graphs can look like. We use the following packages to try this using Python:\n",
    "\n",
    "- `pandas` - for loading the data into a DataFrame.\n",
    "- `matplotlib` - the basic framework for plotting with Python.\n",
    "- `seaborn` - mainly a statistical plotting package, but also sets some nicer aesthetic defaults.\n",
    "- `datetime` - for setting the limits of the x axis.\n",
    "\n",
    "More help on plotting can be found in the matplotlib cheatsheets at https://matplotlib.org/cheatsheets/, and/or ask the teachers for help.\n"
   ]
  },
  {
   "cell_type": "code",
   "execution_count": null,
   "id": "6da6cabc-4b03-4e7e-94c5-de4621bba779",
   "metadata": {},
   "outputs": [],
   "source": [
    "# Load the necessary packages.\n",
    "import pandas as pd\n",
    "import matplotlib.pyplot as plt\n",
    "import seaborn as sns\n",
    "import datetime as dt\n",
    "import os"
   ]
  },
  {
   "cell_type": "code",
   "execution_count": null,
   "id": "223d2f96-a4d4-4164-a1d4-61137a486c3c",
   "metadata": {},
   "outputs": [],
   "source": [
    "# Make a function to download stuff from SwitchDrive.\n",
    "def dl(fn, switch_url):\n",
    "    if os.path.exists(fn):\n",
    "        print('File already downloaded.')\n",
    "    else:\n",
    "        print('Downloading...')\n",
    "        import requests\n",
    "        response = requests.get(switch_url)\n",
    "        open(fn, \"wb\").write(response.content)\n",
    "        print('Done.')"
   ]
  },
  {
   "cell_type": "markdown",
   "id": "70191d2d-5a90-4aa2-bf20-7bdf4a10def7",
   "metadata": {},
   "source": [
    "## Monthly data downloaded from the MeteoSwiss website"
   ]
  },
  {
   "cell_type": "code",
   "execution_count": null,
   "id": "6db765e5-28bf-4bad-80d6-31b0a89e6a5a",
   "metadata": {},
   "outputs": [],
   "source": [
    "# First download the data from switchdrive.\n",
    "file_monthly = \"climate-reports-tables-homogenized_PAY_monthly.txt\"\n",
    "dl(file_monthly, \"https://www.dropbox.com/scl/fi/p950wesj4qgilbmmlv72h/climate-reports-tables-homogenized_PAY_monthly.txt?rlkey=vh053tzybs3095yh3d9f9uajo&dl=1\")"
   ]
  },
  {
   "cell_type": "code",
   "execution_count": null,
   "id": "efafdfec-19ff-43fa-a711-add08415399a",
   "metadata": {},
   "outputs": [],
   "source": [
    "# Load the data.\n",
    "data = pd.read_table(\n",
    "    file_monthly, \n",
    "    skiprows=27, # Skip the first 27 rows\n",
    "    sep='\\s+', # The data are separated by at least one space (\\s)\n",
    "    )\n",
    "data.index = pd.to_datetime(data[['Year', 'Month']].assign(DAY=1))"
   ]
  },
  {
   "cell_type": "code",
   "execution_count": null,
   "id": "27110aa2-66d8-41d5-8941-340dab0571e0",
   "metadata": {},
   "outputs": [],
   "source": [
    "# Look at the data.\n",
    "data"
   ]
  },
  {
   "cell_type": "markdown",
   "id": "20cc24e7-9b5c-4057-b2d3-55abf3fd26a2",
   "metadata": {},
   "source": [
    "Here's an example of how to plot these monthly data."
   ]
  },
  {
   "cell_type": "code",
   "execution_count": null,
   "id": "d67a8bc8-f475-4c11-8aa0-ce142a7878b3",
   "metadata": {},
   "outputs": [],
   "source": [
    "# Using seaborn, we say that we want a figure to look suitable for use in a paper.\n",
    "sns.set_context('paper')\n",
    "\n",
    "# Set up the figure, and the axis within the figure.\n",
    "fig, ax = plt.subplots(figsize=(6,3.5))\n",
    "# ax = plt.subplot(111) # We want just a single axis.\n",
    "\n",
    "# The line commented out below is the simple way of plotting, but you \n",
    "# cannot change the xlimits after!\n",
    "#data.Temperature.plot(ax=ax)\n",
    "\n",
    "# Plot the data\n",
    "ax.plot(data.index, data.Temperature)\n",
    "\n",
    "# x axis settings\n",
    "ax.set_xlabel('Date')\n",
    "ax.set_xlim(dt.date(1965, 1, 1), dt.date(2022, 1, 1))\n",
    "\n",
    "# y axis settings\n",
    "ax.set_ylabel('Air Temperature (degrees C)')\n",
    "\n",
    "# I've disabled the gridlines in the background completely\n",
    "ax.grid(visible=False)\n",
    "\n",
    "# This command gets rid of more borders and ticks.\n",
    "sns.despine()\n",
    "\n",
    "\n",
    "# We can save this figure as a PNG file which you can then use in software like Word and PowerPoint.\n",
    "plt.savefig('PAY_monthly.png', dpi=300)"
   ]
  },
  {
   "cell_type": "markdown",
   "id": "c3186e4f-9a37-4113-b0cf-222e40fda9ca",
   "metadata": {
    "tags": []
   },
   "source": [
    "## Files from the Meteoswiss computer\n",
    "\n",
    "The files that you create on the computer with the MeteoSwiss program have a different format to the monthly website files. Below is an example that works with daily temperature and precipitation data downloaded from the Delemont station in the Jura for 2022."
   ]
  },
  {
   "cell_type": "code",
   "execution_count": null,
   "id": "8512656e-953b-479b-92be-62f559babd98",
   "metadata": {},
   "outputs": [],
   "source": [
    "file_daily = 'meteoswiss_delemont_2022_daily.dat'\n",
    "dl(file_daily, 'https://www.dropbox.com/scl/fi/217a9t2j4vfz0frivd0go/meteoswiss_delemont_2022_daily.dat?rlkey=50t2krkwr94ftqbgc5wnkk2hg&dl=1')"
   ]
  },
  {
   "cell_type": "code",
   "execution_count": null,
   "id": "211af813-4d98-47f8-8b4c-50f58ae02077",
   "metadata": {},
   "outputs": [],
   "source": [
    "met = pd.read_fwf(\n",
    "    file_daily,                                # Put your filename here\n",
    "    skiprows=8,                                # Skip the first 8 rows\n",
    "    sep='\\s+',                                 # The data are separated by at least one space (\\s),\n",
    "    encoding='windows-1252',                   # Don't worry about what this means! Not usually needed, this is the first time I ever used it...\n",
    "    parse_dates={'date':['JAHR', 'MO', 'TG']}, # Convert Year, Month, Day into Python dates\n",
    "    index_col='date',                          # Set pandas DataFrame 'coordinate' (index) to the date.,\n",
    "    decimal=','                                # MeteoSwiss data use the comma as a decimal point.\n",
    "    )\n",
    "\n",
    "# Let's get rid of columns that we don't want.\n",
    "# STA = Station identifier\n",
    "# HH = Hour\n",
    "# MM = Minute\n",
    "met = met.drop(labels=['STA','HH','MM'], axis='columns')\n",
    "\n",
    "# Finally, you can rename the columns to something helpful. \n",
    "# The example file I'm using has two columns named 211 and 236, which are temperature and precipitation.\n",
    "# Modify this according to your needs.\n",
    "met = met.rename({'211':'temperature', '236':'precipitation'}, axis='columns')\n",
    "\n",
    "# Finally you can do a plot...\n",
    "# Here directly with the library-internal function .plot() of pandas\n",
    "met['temperature'].plot()"
   ]
  },
  {
   "cell_type": "code",
   "execution_count": null,
   "id": "423f685f-24c9-41e1-9398-15abd012776a",
   "metadata": {},
   "outputs": [],
   "source": [
    "met"
   ]
  },
  {
   "cell_type": "markdown",
   "id": "97ce007b-a914-4b38-ab16-6071eaf6a7e2",
   "metadata": {},
   "source": [
    "We can see that we have two columns, named `temperature` and `precipitation`."
   ]
  },
  {
   "cell_type": "markdown",
   "id": "51be44ed-e8ee-4c2f-bba2-c7696921ad18",
   "metadata": {},
   "source": [
    "## Bonus material"
   ]
  },
  {
   "cell_type": "markdown",
   "id": "8e6913dd-fadd-4089-aa09-454c985542c6",
   "metadata": {},
   "source": [
    "### Summary statistics"
   ]
  },
  {
   "cell_type": "code",
   "execution_count": null,
   "id": "67785174-e3da-406a-9fb0-b8a4a89ddc22",
   "metadata": {},
   "outputs": [],
   "source": [
    "met.describe()"
   ]
  },
  {
   "cell_type": "markdown",
   "id": "4607ad95-799b-494b-af84-df73de21b37e",
   "metadata": {},
   "source": [
    "### Annual time series from the monthly data\n",
    "\n",
    "This works in a very similar way to xarray, we just don't need to provide the 'time' coordinate name."
   ]
  },
  {
   "cell_type": "code",
   "execution_count": null,
   "id": "dfdd6eb7-4f3f-4988-8cc7-f669b4beb964",
   "metadata": {},
   "outputs": [],
   "source": [
    "annual_t = data.resample('1YS').mean()\n",
    "annual_t.head()"
   ]
  },
  {
   "cell_type": "code",
   "execution_count": null,
   "id": "1f8e9881-7d8f-41cc-87da-27551fa2571f",
   "metadata": {},
   "outputs": [],
   "source": [
    "fig, ax = plt.subplots()\n",
    "ax.plot(annual_t.index, annual_t.Temperature)\n",
    "sns.despine()"
   ]
  },
  {
   "cell_type": "markdown",
   "id": "d12b013c-2159-4675-9d6a-1f8e7f536119",
   "metadata": {},
   "source": [
    "2022 is incomplete, which means we are visualising a higher annual temperature than we should. Let's remove and re-plot."
   ]
  },
  {
   "cell_type": "code",
   "execution_count": null,
   "id": "2e98e420-4f9c-4283-806d-3ff835fa8955",
   "metadata": {},
   "outputs": [],
   "source": [
    "annual_t_clean = annual_t[:'2021']\n",
    "fig, ax = plt.subplots()\n",
    "ax.plot(annual_t_clean.index, annual_t_clean.Temperature)\n",
    "ax.set_ylabel('Air Temperature (degrees C)')\n",
    "sns.despine()\n",
    "plt.savefig('PAY_annual.png', dpi=300)"
   ]
  },
  {
   "cell_type": "markdown",
   "id": "5007d062-9b4e-4697-a68c-a6a6ab00ef7d",
   "metadata": {},
   "source": [
    "## Map plotting tips/tricks\n",
    "\n",
    "The code in this section shows how to plot a raster (later on more on that) **and change the label of the colorbar**."
   ]
  },
  {
   "cell_type": "code",
   "execution_count": null,
   "id": "48fa05b9-d61c-4aa6-b9ca-1b5a64d0c084",
   "metadata": {},
   "outputs": [],
   "source": [
    "import numpy as np\n",
    "import xarray as xr\n",
    "import matplotlib.pyplot as plt\n",
    "\n",
    "# Create a 50x60 raster with random values using numpy\n",
    "data = np.random.rand(50, 60)\n",
    "\n",
    "# Create an xarray DataArray\n",
    "raster = xr.DataArray(data,\n",
    "                      dims=[\"y\", \"x\"],\n",
    "                      coords={\"y\": np.arange(50),\n",
    "                              \"x\": np.arange(60)}\n",
    "                     )\n",
    "\n",
    "# Plot the raster using xarray's built-in plot function\n",
    "raster.plot(cmap=\"viridis\", \n",
    "            cbar_kwargs={'label':'my new label'}\n",
    "           )\n",
    "plt.title(\"50x60 Raster\")\n"
   ]
  },
  {
   "cell_type": "code",
   "execution_count": null,
   "id": "bb670e54-344b-455e-b7e7-7c6a04b83a92",
   "metadata": {},
   "outputs": [],
   "source": []
  }
 ],
 "metadata": {
  "kernelspec": {
   "display_name": "Python 3 (ipykernel)",
   "language": "python",
   "name": "python3"
  },
  "language_info": {
   "codemirror_mode": {
    "name": "ipython",
    "version": 3
   },
   "file_extension": ".py",
   "mimetype": "text/x-python",
   "name": "python",
   "nbconvert_exporter": "python",
   "pygments_lexer": "ipython3",
   "version": "3.11.13"
  }
 },
 "nbformat": 4,
 "nbformat_minor": 5
}
