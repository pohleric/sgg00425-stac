{
 "cells": [
  {
   "cell_type": "markdown",
   "id": "59c93451-10f0-4890-89ab-60090889e2a3",
   "metadata": {},
   "source": [
    "# TS-2: Getting to know your data\n",
    "\n",
    "This Notebook demonstrates:\n",
    "\n",
    "* What the temporal and spatial dimensions are\n",
    "* How you can access the data in these dimensions\n",
    "* How to account for spatial variability\n",
    "* How to mitigate missing data\n",
    "* How to export a time series as a CSV file which you can open in Excel for further analysis."
   ]
  },
  {
   "cell_type": "code",
   "execution_count": null,
   "id": "5b0e8d42-244e-4554-9e6b-3e9735844110",
   "metadata": {},
   "outputs": [],
   "source": [
    "%%html\n",
    "<style>\n",
    "    .dothis{\n",
    "    font-weight: bold;\n",
    "    color: #ff7f0e;\n",
    "    font-size:large\n",
    "    }\n",
    "</style>"
   ]
  },
  {
   "cell_type": "code",
   "execution_count": null,
   "id": "dd76de47-afc0-4a29-b1eb-15dc9da2aa1d",
   "metadata": {},
   "outputs": [],
   "source": [
    "# Import modules\n",
    "\n",
    "# reload module before executing code\n",
    "%load_ext autoreload\n",
    "%autoreload 2\n",
    "\n",
    "# define modules locations (you might have to adapt define_mod_locs.py)\n",
    "# %run ../sdc-notebooks/Tools/define_mod_locs.py\n",
    "\n",
    "import os\n",
    "import shutil\n",
    "import xarray as xr\n",
    "import numpy as np\n",
    "from datetime import datetime\n",
    "import matplotlib.pyplot as plt\n",
    "from matplotlib.pyplot import cm\n",
    "from matplotlib.patches import Polygon, Rectangle\n",
    "from sdc_utilities import *\n",
    "\n",
    "# silence warning (not recommended during development)\n",
    "import warnings\n",
    "warnings.filterwarnings(\"ignore\")"
   ]
  },
  {
   "cell_type": "code",
   "execution_count": null,
   "id": "c38c7f27-fd4c-494c-98e5-82b6a36f690b",
   "metadata": {},
   "outputs": [],
   "source": [
    "## Changes to make figures easier to read\n",
    "\n",
    "# Especially for the beamer, we're going to use seaborn to make the figure text bigger.\n",
    "import seaborn as sns\n",
    "sns.set_context('talk')\n",
    "\n",
    "# this line changes the size of the figures displayed in the notebooks\n",
    "plt.rcParams['figure.figsize'] = (16,8)       "
   ]
  },
  {
   "cell_type": "markdown",
   "id": "d21059c8-183c-447f-80a1-3ef5c5484de9",
   "metadata": {},
   "source": [
    "<hr style=\"border-top:8px solid black\" />\n",
    "\n",
    "## *Preparing our data*\n",
    "\n",
    "We will use a pre-prepared small data subset around Fribourg which we extracted from the Swiss Data Cube for you earlier. It is located in the `data/` folder.\n",
    "\n",
    "<span style=\"color:gray; font-style:italic\">We made this data subset using `ts1_data_preparation.ipynb`. You will find this approach useful when doing your project work.</span>"
   ]
  },
  {
   "cell_type": "code",
   "execution_count": null,
   "id": "6caae822-5708-436d-bd71-6b5e73f81b5d",
   "metadata": {},
   "outputs": [],
   "source": [
    "nc_filename = \"data/landsat_ot_c2_l2_fribourg_example.nc\"\n"
   ]
  },
  {
   "cell_type": "code",
   "execution_count": null,
   "id": "5f29afa9-1740-435a-b2bd-b57854f2f246",
   "metadata": {},
   "outputs": [],
   "source": [
    "# Open the prepared Landsat 8 subset for the Fribourg region \n",
    "ds = xr.open_dataset(nc_filename, engine='netcdf4')"
   ]
  },
  {
   "cell_type": "code",
   "execution_count": null,
   "id": "7980b8a3-72f2-4702-9d36-2dab10266cc8",
   "metadata": {},
   "outputs": [],
   "source": [
    "# ds - the dataset\n",
    "ds"
   ]
  },
  {
   "cell_type": "code",
   "execution_count": null,
   "id": "f5bda3d1-0928-44ca-8101-1b9c7d48d274",
   "metadata": {},
   "outputs": [],
   "source": [
    "# Create a 'shortcut' variable so that we can work with NDVI directly.\n",
    "ndvi = ds.ndvi\n",
    "ndvi"
   ]
  },
  {
   "cell_type": "markdown",
   "id": "f07f73e5-95c7-424a-aa35-4dfbe5c31426",
   "metadata": {},
   "source": [
    "<hr style=\"border-top:8px solid black\">\n",
    "\n",
    "## Temporal Data\n",
    "### Time components\n",
    "\n",
    "Of special interest for us is the `time` dimension. `time` has multiple attributes that allow you to select data of interest. We can look at all the time steps in the dataset by calling `<xarrayDataArray>.time`. In the cell below you will see that the time of each scene is stored in a very detailed format:\n",
    "\n",
    "- 2013-04-18T10:18:18.000000000\n",
    "\n",
    "with:\n",
    "- 2013 - year\n",
    "- 04 - month\n",
    "- 18 - day\n",
    "- 10:18:18.000000000 - Hour:Minute:Second\n",
    "\n",
    "*More information can be found at https://docs.xarray.dev/en/stable/user-guide/time-series.html#datetime-components.*"
   ]
  },
  {
   "cell_type": "code",
   "execution_count": null,
   "id": "fbd7bd5d-7fe0-43d0-94fb-bba668245593",
   "metadata": {},
   "outputs": [],
   "source": [
    "ds.time\n",
    "# ds[\"time\"]  # will yield the same output / different way of writing it"
   ]
  },
  {
   "cell_type": "markdown",
   "id": "85683f7d-4e46-4466-95b0-e559e17f2043",
   "metadata": {},
   "source": [
    "We can access the individual parts using the same writing but with an additional `.dt` followed by the attribute of interest:"
   ]
  },
  {
   "cell_type": "code",
   "execution_count": null,
   "id": "1d3309c7-3244-45f4-8c53-ac53ac28c016",
   "metadata": {},
   "outputs": [],
   "source": [
    "# examples\n",
    "ds.time.dt.month\n",
    "# ds.time.dt.day\n",
    "# ds.time.dt.year\n",
    "# ds.time.dt.season"
   ]
  },
  {
   "cell_type": "markdown",
   "id": "b5e42337-19ca-4187-aa29-f5820e035b2e",
   "metadata": {},
   "source": [
    "***\n",
    "> **Note** The date/time string is in a format that we understand (years, months, days, etc.). Inside a computer, the date/time is represented as a numeric value. A standard way is to represent any date as number of days since \"1970-01-01\". This allows to convert the date/time string into something meaningful for the computer.\n",
    "***"
   ]
  },
  {
   "cell_type": "code",
   "execution_count": null,
   "id": "aee4568b-ba85-4b38-aa14-90d7d72f077a",
   "metadata": {},
   "outputs": [],
   "source": [
    "from matplotlib import dates\n",
    "\n",
    "print(dates.date2num(np.datetime64('1850-11-17 13:12:11')))\n",
    "print(dates.date2num(np.datetime64('1970-01-01 00:00:00')))  # this is the standard time starting point\n",
    "print(dates.date2num(np.datetime64('2022-11-17')))\n",
    "\n",
    "# The output unit is [days since start]"
   ]
  },
  {
   "cell_type": "markdown",
   "id": "fedf7a7c-3e5c-41b8-b108-de6670f12c00",
   "metadata": {},
   "source": [
    "### Reducing over *time* produces a map\n",
    "\n",
    "Along the time axis of the DataArray `ndvi`, every pixel (x,y / lon,lat) represents the evolution of the Normalized Difference Vegetation Index (NDVI). "
   ]
  },
  {
   "cell_type": "markdown",
   "id": "9398f4db-4d60-49a6-a01d-8839f49fbf10",
   "metadata": {},
   "source": [
    "First, let's look at the 3-D data array:"
   ]
  },
  {
   "cell_type": "code",
   "execution_count": null,
   "id": "0ccbc115-8420-4e8e-82e9-90becc05af72",
   "metadata": {},
   "outputs": [],
   "source": [
    "ndvi = ds.ndvi\n",
    "ndvi"
   ]
  },
  {
   "cell_type": "markdown",
   "id": "c1394ec9-b8c2-4a22-b37c-5f90faccdd58",
   "metadata": {},
   "source": [
    "Now we can take a mean of data from only September 2013:"
   ]
  },
  {
   "cell_type": "code",
   "execution_count": null,
   "id": "c6404b66-2213-40c3-837a-b48c16ea65bd",
   "metadata": {},
   "outputs": [],
   "source": [
    "sept13 = ds.ndvi.sel(time='2013-09').mean(dim=\"time\")\n",
    "sept13\n",
    "\n",
    "# In comparison to all Septmeber months:\n",
    "# september_mean = ds.ndvi.sel(time=ds.time.dt.month == 9).mean(dim=\"time\")"
   ]
  },
  {
   "cell_type": "markdown",
   "id": "bb4eae3d-e6a2-40fd-8eb4-7b14d259794e",
   "metadata": {},
   "source": [
    "Finally we can plot the map:"
   ]
  },
  {
   "cell_type": "code",
   "execution_count": null,
   "id": "7cb6f122-34eb-494d-80fe-a825f521796a",
   "metadata": {},
   "outputs": [],
   "source": [
    "sept13.plot.imshow(vmin=0, vmax=1, cmap=cm.Greens)"
   ]
  },
  {
   "cell_type": "markdown",
   "id": "5bba2c4e-af8c-44ff-bc13-1fe59e2ed8b1",
   "metadata": {},
   "source": [
    "The map above shows the average value (`.mean()`) over the time axis (`dim=\"time\"`) for all scenes (images) available in September for the year 2013.\n",
    "\n",
    "This example reduces the dimensions of the DataArray (`ndvi`) in 3-D:\n",
    "- time\n",
    "- y (latitude)\n",
    "- x (longitude)\n",
    "\n",
    "to 2-D:\n",
    "- y\n",
    "- x\n"
   ]
  },
  {
   "cell_type": "markdown",
   "id": "ef1c9161-c33e-49ca-9145-71bb0b8b0fd0",
   "metadata": {},
   "source": [
    "***\n",
    "We might instead want to look at all values from April, combining all the Aprils across all the years of our data. We can do this as follows....\n",
    "\n",
    "`.sel()` allows us to select certain months, seasons, or years by asking where the **time components** match a condition. In the example below the expression `ndvi.time.dt.month==4` asks where the `month` component matches the value `4` (April). "
   ]
  },
  {
   "cell_type": "code",
   "execution_count": null,
   "id": "80435a58-2359-463c-b8f3-444fce52caad",
   "metadata": {},
   "outputs": [],
   "source": [
    "# Only the time dimension values are show with the additional \".time\" at the end. For the whole dataset, remove this ending.\n",
    "ndvi.sel(time=ndvi.time.dt.month==4).time"
   ]
  },
  {
   "cell_type": "markdown",
   "id": "dfe3b1f0-859e-4c72-a309-06341dc1d65b",
   "metadata": {},
   "source": [
    "Like previously, we can produce a map, but this time only using the April values from 2013 to 2021:"
   ]
  },
  {
   "cell_type": "code",
   "execution_count": null,
   "id": "07289ce2-cee0-4c54-b5f4-cc74c5c320bf",
   "metadata": {},
   "outputs": [],
   "source": [
    "ndvi.sel(time=ndvi.time.dt.month == 4).mean(dim='time').plot(vmin=0, vmax=1, cmap='Greens')"
   ]
  },
  {
   "cell_type": "markdown",
   "id": "766ca5fe-85dc-4f0b-98e5-74d23a3ff42a",
   "metadata": {},
   "source": [
    "<span class='dothis'>Try to select all time steps from the `ndvi` DataArray that correspond to summer `JJA` (June, July, August) using the **time component**:`.time.dt.season`.</span>"
   ]
  },
  {
   "cell_type": "code",
   "execution_count": null,
   "id": "30523d39-ba4c-4da5-aede-2cfa7657a6b6",
   "metadata": {},
   "outputs": [],
   "source": [
    "# Put your code here. Don't be shy to copy+paste\n",
    "ndvi.sel(time=((ndvi.time.dt.month == 4) & (ndvi.time.dt.day == 20))).mean(dim='time')\\\n",
    "    .plot(vmin=0, vmax=1, cmap='Greens')"
   ]
  },
  {
   "cell_type": "markdown",
   "id": "eae5c040-13c5-4198-9271-969fd2c6f5e0",
   "metadata": {},
   "source": [
    "<hr style=\"border-top: 8px solid black\">\n",
    "\n",
    "## Spatial data\n",
    "\n",
    "### Reducing over *space* produces a time series\n",
    "\n",
    "What about selecting only a certain spatial location from a DataSet or our DataArray?\n",
    "\n",
    "We set the total spatial extent when we extracted this DataSet using `ts1_data_preparation`. We can remind ourselves of the total extent now:"
   ]
  },
  {
   "cell_type": "code",
   "execution_count": null,
   "id": "12c5e4d9-edaa-42ac-a200-48d7f1901a80",
   "metadata": {},
   "outputs": [],
   "source": [
    "ndvi.coords"
   ]
  },
  {
   "cell_type": "code",
   "execution_count": null,
   "id": "655ef1a6-b748-4cf7-8600-38e37e4d45a7",
   "metadata": {},
   "outputs": [],
   "source": [
    "# a point in the middle of the study area\n",
    "point_x = 2580000\n",
    "point_y = 1181500"
   ]
  },
  {
   "cell_type": "code",
   "execution_count": null,
   "id": "5eef4868-9711-4c3b-a69b-bf3f8513617e",
   "metadata": {},
   "outputs": [],
   "source": [
    "# Let's draw another map to show where this point is located\n",
    "ndvi.sel(time=ndvi.time.dt.month == 4).mean(dim='time').plot(vmin=0, vmax=1, cmap='Greens')\n",
    "plt.plot(point_x, point_y, 'o', color='yellow', markersize=10)\n",
    "plt.show()"
   ]
  },
  {
   "cell_type": "code",
   "execution_count": null,
   "id": "0b5805a1-dc19-412f-836c-9554de62d1b8",
   "metadata": {},
   "outputs": [],
   "source": [
    "# in which \"dimensions\" is the information stored?\n",
    "ndvi.dims"
   ]
  },
  {
   "cell_type": "code",
   "execution_count": null,
   "id": "9234efa6-baee-4d72-8ab1-029bd8e55715",
   "metadata": {},
   "outputs": [],
   "source": [
    "# With the .sel() method you select certain data. You define the dimension (dimension name)\n",
    "# in which the value should be looked for. In the example these are \"longitude\" and \"latitude\"\n",
    "\n",
    "da = ndvi.sel(\n",
    "    x=point_x,      \n",
    "    y=point_y,     \n",
    "    method=\"nearest\"               # the nearest method finds the 1 closest pixel\n",
    "             )"
   ]
  },
  {
   "cell_type": "code",
   "execution_count": null,
   "id": "3caf3974-e2f0-4869-bc18-eefe5109f1ac",
   "metadata": {},
   "outputs": [],
   "source": [
    "# Look at the output, the dimensions have been reduced. Lon and Lat are only single values and are not dimensions any more\n",
    "da.dims"
   ]
  },
  {
   "cell_type": "code",
   "execution_count": null,
   "id": "646898fd-7da4-4f0d-b109-42ac4a1a4a05",
   "metadata": {},
   "outputs": [],
   "source": [
    "da"
   ]
  },
  {
   "cell_type": "code",
   "execution_count": null,
   "id": "fe5d6dbf-d84c-44f2-89dc-af4ee87e3834",
   "metadata": {},
   "outputs": [],
   "source": [
    "da.plot.line('o')\n",
    "# da[da<0.6].plot.line('o')  # Example to skip plotting values >= 0.6"
   ]
  },
  {
   "cell_type": "markdown",
   "id": "dbcc0e69-f26a-4176-80e8-54a78d0deccb",
   "metadata": {},
   "source": [
    "The above plot shows for one pixel each time step as a blue point. "
   ]
  },
  {
   "cell_type": "markdown",
   "id": "ba4231d0-e6b2-4fc4-8174-e4ea629e2a82",
   "metadata": {},
   "source": [
    "### Reducing over an area of space\n",
    "\n",
    "Above, we looked at just a single pixel. Now let's look at how we can extract small or large spatial areas using the `slice()` command together with `.sel()`.\n",
    "\n",
    "`slice()` allows us to literally 'slice' out a smaller area from within a larger one. To use it we provide the minimum and maximum coordinates which define our box of interest."
   ]
  },
  {
   "cell_type": "code",
   "execution_count": null,
   "id": "c11c839c-c37e-4028-903e-416efb4bbeda",
   "metadata": {},
   "outputs": [],
   "source": [
    "x_coords = slice(point_x-1000, point_x+1000)\n",
    "y_coords = slice(point_y+1000, point_y-1000)\n",
    "# NOTE: the order   ^        ,   ^   is the higher and THEN the LOWER latitude. That is\n",
    "# because the image coordinates go from top to bottom, but latitudes \n",
    "# go from south to north --> botttom to top. That's why they are reversed"
   ]
  },
  {
   "cell_type": "code",
   "execution_count": null,
   "id": "2795897e-47db-4d48-8479-6dcaa6358437",
   "metadata": {},
   "outputs": [],
   "source": [
    "da = ndvi.sel(y=y_coords, x=x_coords)"
   ]
  },
  {
   "cell_type": "code",
   "execution_count": null,
   "id": "3d9f8368-e4ea-41b5-9b21-a282afe3f329",
   "metadata": {},
   "outputs": [],
   "source": [
    "da"
   ]
  },
  {
   "cell_type": "markdown",
   "id": "a8db2017-8dab-47c7-b490-7c8ad2f1e749",
   "metadata": {},
   "source": [
    "To illustrate what we have just done, let's make a map which shows the area that we are extracting a time series from:"
   ]
  },
  {
   "cell_type": "code",
   "execution_count": null,
   "id": "70064ca7-39e3-4406-9c66-2a408c93e88a",
   "metadata": {},
   "outputs": [],
   "source": [
    "# Overview map with positions indicated by circles\n",
    "fig,ax = plt.subplots(1)\n",
    "\n",
    "# First plot the mean NDVI of the whole time series as a map\n",
    "ndvi.mean(dim='time').plot.imshow(vmin=0,\n",
    "                   vmax=1,\n",
    "                   cmap=cm.Greens)\n",
    "\n",
    "area = Rectangle((x_coords.start, y_coords.stop),            # Corner\n",
    "                 x_coords.stop-x_coords.start,              # Width\n",
    "                 y_coords.start-y_coords.stop,              # Height\n",
    "                facecolor=\"#FF000022\", edgecolor='r'   # Formatting\n",
    "                )\n",
    "# Draw a box of the area we have extracted\n",
    "ax.add_patch(area)\n",
    "\n",
    "ax.plot(point_x, point_y, 'o', mfc='yellow')"
   ]
  },
  {
   "cell_type": "markdown",
   "id": "51ebda3c-a3c2-4e5e-98e8-a39d1fa90150",
   "metadata": {},
   "source": [
    "Plotting a time series of the rectangle in the map above:"
   ]
  },
  {
   "cell_type": "code",
   "execution_count": null,
   "id": "84beb448-6cdc-4916-9b2e-cabd03ac4a16",
   "metadata": {},
   "outputs": [],
   "source": [
    "da.mean(dim=('x', 'y')).plot.line(x='time', marker='o', linestyle='none')"
   ]
  },
  {
   "cell_type": "markdown",
   "id": "7a73b5f0-449c-4015-84e6-7514003f6cf8",
   "metadata": {
    "tags": []
   },
   "source": [
    "<hr style=\"border-top: 8px solid black\">\n",
    "\n",
    "## A complete summary of `.sel()`\n",
    "\n",
    "Once we have loaded some data from the Swiss Data Cube, we might be interested in looking only at specific parts of it in either time or space. To do this we use the `.sel()` method. The keywords/arguments that we supply are any, some, or all of the dimensions:\n",
    "\n",
    "- 1st dimension: `time`\n",
    "- 2nd dimension: `latitude`\n",
    "- 3rd dimension: `longitude`\n",
    "\n",
    "To tell the method which selection we want to have, we define a **single value** to look for (e.g. `time='2019-10-30'`), or a **range** (`longitude=slice(7.192, 7.193)`). The `slice()` function is interpreted directly by `.sel()` to know that all the values between the first (7.192) and the last value (7.193) should be found.\n",
    "\n",
    "\n",
    "**Examples**\n",
    "\n",
    "Specific dates and date ranges:\n",
    "- `mydata.sel(time='2019-10-12')` - one date - will find a time step and its values only if there is data on that day! If there is no data available then no data will be returned.\n",
    "- `mydata.sel(time='2019-10-13', method=\"nearest\")` - one date, and method='nearest' because the exact time entry is: `2019-10-12T10:17:17`. This will return the value from the day before.\n",
    "- `mydata.sel(time=slice('2019-10-11', '2019-10-13'))` - this one will return all the entries in the time `slice`\n",
    "\n",
    "\n",
    "All dates of the same month:\n",
    "- `mydata.sel(time=ndvi.time.dt.month==4)` - select all time steps where the month is April\n",
    "- `mydata.sel(time=ndvi.time.dt.month.isin([1, 2, 3]))` - select all time steps where the month is are either: January, February, or March\n",
    "***\n",
    "Spatial:\n",
    "- `mydata.sel(y=1182500)` - the point at Swiss Grid y 1182500 m. If there is no data here then you will get an empty DataArray.\n",
    "- `mydata.sel(y=1182500, method=\"nearest\")` - the measurement at the point closest to Swiss Grid y 1182500 m.\n",
    "- `mydata.sel(y=slice(1182500, 1180500))` - all measurements between the two coordinates.\n",
    "- You can also do the same thing with x (longitude), just change the keyword accordingly.\n",
    "\n",
    "***\n",
    "Combining selections:\n",
    "\n",
    "You can combine exact and \"nearest\" selections by using two `.sel()` operations:"
   ]
  },
  {
   "cell_type": "code",
   "execution_count": null,
   "id": "19d38837-7bcb-4566-9fed-45c2ceb8ba51",
   "metadata": {},
   "outputs": [],
   "source": [
    "ndvi.sel(time='2019-10-13', method='nearest').sel(y=slice(1182500, 1180500))"
   ]
  },
  {
   "cell_type": "markdown",
   "id": "45c0f2a6-2156-4bf1-8680-2d6cc8bb16d8",
   "metadata": {
    "tags": []
   },
   "source": [
    "You can combine multiple keywords in one statement:"
   ]
  },
  {
   "cell_type": "code",
   "execution_count": null,
   "id": "98c33370-965a-44ab-810c-7f26fa1bdc50",
   "metadata": {},
   "outputs": [],
   "source": [
    "ndvi.sel(x=2578000, time='2019-08-12', method='nearest')"
   ]
  },
  {
   "cell_type": "markdown",
   "id": "88587b2a-139c-4219-be47-1c158f4a6ed6",
   "metadata": {},
   "source": [
    "<span class='dothis'>Now try out some different dates and x/y coordinates, with and without the `method='nearest'`, and a `slice(<date-start>, <date-end>)` operation.</span>"
   ]
  },
  {
   "cell_type": "code",
   "execution_count": null,
   "id": "2c6b3ea0-1c62-4c1b-a752-10521ebc63c4",
   "metadata": {},
   "outputs": [],
   "source": [
    "# Put your code here:\n"
   ]
  },
  {
   "cell_type": "markdown",
   "id": "0f40df2a-d147-484e-8171-d1b2050510c1",
   "metadata": {},
   "source": [
    "<hr style=\"border-top:8px solid black\" />\n",
    "\n",
    "## Saving a time series to a CSV file\n",
    "\n",
    "CSV files are 'comma-separated-value' files that can be opened in Excel and many other analysis packages.\n",
    "\n",
    "Let's export a time series of NDVI from a small part of Fribourg that we have loaded."
   ]
  },
  {
   "cell_type": "code",
   "execution_count": null,
   "id": "029a5fff-20fc-4c12-9da0-a1aafa3dbc0c",
   "metadata": {},
   "outputs": [],
   "source": [
    "ndvi_thru_time = ndvi.sel(x=point_x, y=point_y, method='nearest')"
   ]
  },
  {
   "cell_type": "markdown",
   "id": "41bc13a9-cc02-49f1-a0e6-6b7058a00b65",
   "metadata": {},
   "source": [
    "Next we check that we have only a single dimension, in this case time. (Otherwise the export won't work!"
   ]
  },
  {
   "cell_type": "code",
   "execution_count": null,
   "id": "86ad169d-6ec4-4e96-9d9c-b8031c154591",
   "metadata": {},
   "outputs": [],
   "source": [
    "ndvi_thru_time"
   ]
  },
  {
   "cell_type": "markdown",
   "id": "6a082401-7b2f-48db-b3c4-eca7e925bf0f",
   "metadata": {},
   "source": [
    "We convert the data to a Pandas DataFrame:"
   ]
  },
  {
   "cell_type": "code",
   "execution_count": null,
   "id": "049a3fd4-438d-4fa5-aeae-9c9e377eab83",
   "metadata": {},
   "outputs": [],
   "source": [
    "ndvi_thru_time_pd = ndvi_thru_time.to_dataframe()"
   ]
  },
  {
   "cell_type": "markdown",
   "id": "edf88bb9-2b7b-4373-94aa-255f2f41c732",
   "metadata": {},
   "source": [
    "Let's take a look at it. Note that it looks very similar to an xarray DataArray - it just does not have spatial coordinates any more."
   ]
  },
  {
   "cell_type": "code",
   "execution_count": null,
   "id": "68def23a-c9d2-49f7-9445-08944947ffed",
   "metadata": {},
   "outputs": [],
   "source": [
    "ndvi_thru_time_pd"
   ]
  },
  {
   "cell_type": "markdown",
   "id": "a58ba369-06cf-4c3e-8f03-4b0997c99ba0",
   "metadata": {},
   "source": [
    "Now we save to Comma Separated Values (CSV) file. There are more options possible to reduce the time-series e.g. to daily values (see next notebook for the details). Before saving the file to CSV, we calculate the mean daily values, and remove rows with no data. This will make it easier later on for plotting in your preferred plotting software (python, R, Excel)."
   ]
  },
  {
   "cell_type": "code",
   "execution_count": null,
   "id": "9d97bb9f-a63f-45d7-a04a-88af1bd4f378",
   "metadata": {},
   "outputs": [],
   "source": [
    "# Resample and calculate daily mean for all variables\n",
    "ndvi_thru_time_daily_pd = ndvi_thru_time_pd.resample('1D').mean()\n",
    "\n",
    "# remove all rows without values\n",
    "ndvi_thru_time_daily_clean_pd = ndvi_thru_time_daily_pd.dropna()\n",
    "\n",
    "# Save including empty rows\n",
    "ndvi_thru_time_pd.to_csv('ndvi_over_fribourg.csv')\n",
    "# Save after removing NA values\n",
    "ndvi_thru_time_daily_clean_pd.to_csv('ndvi_daily_clean_over_fribourg.csv')"
   ]
  },
  {
   "cell_type": "markdown",
   "id": "81dedba5-ff36-4e71-8fa4-54e9c6f57c0b",
   "metadata": {},
   "source": [
    "You can now download the file that was made and open it in Excel or some other analysis software."
   ]
  }
 ],
 "metadata": {
  "kernelspec": {
   "display_name": "Python 3 (ipykernel)",
   "language": "python",
   "name": "python3"
  },
  "language_info": {
   "codemirror_mode": {
    "name": "ipython",
    "version": 3
   },
   "file_extension": ".py",
   "mimetype": "text/x-python",
   "name": "python",
   "nbconvert_exporter": "python",
   "pygments_lexer": "ipython3",
   "version": "3.11.13"
  }
 },
 "nbformat": 4,
 "nbformat_minor": 5
}
