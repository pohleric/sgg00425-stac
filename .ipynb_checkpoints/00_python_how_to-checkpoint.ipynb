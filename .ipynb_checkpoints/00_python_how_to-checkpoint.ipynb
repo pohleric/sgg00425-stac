{
 "cells": [
  {
   "cell_type": "code",
   "execution_count": null,
   "id": "f1750c71-8363-4973-8f85-b93b6b40fe76",
   "metadata": {},
   "outputs": [],
   "source": [
    "%%html\n",
    "<style>\n",
    "    .dothis{\n",
    "    font-weight: bold;\n",
    "    color: #ff7f0e;\n",
    "    font-size:large\n",
    "    }\n",
    "</style>"
   ]
  },
  {
   "cell_type": "markdown",
   "id": "150d1213-1dbd-4ca6-9f29-5a680380d90d",
   "metadata": {},
   "source": [
    "# An introduction to Python \n",
    ".. and Jupyter Notebooks"
   ]
  },
  {
   "cell_type": "markdown",
   "id": "237cee60-f092-47e3-9fdf-463dc4d4afe7",
   "metadata": {},
   "source": [
    "## Jupyter Notebooks\n",
    "This is a Jupyter Notebook. It is a website with different kinds of \"cells\". The active cell has a blue bar on the left-hand side. There are **two main cell types**. This cell here is a `markdown` cell (like HTML code). The cells further down with the `[ ]` on the left side are `code` cells. Code cells run real programming code for you, called via the Anaconda prompt in the background behind your eyes. The output (results) of your code is displayed below the cells, e.g. in the form of statistical results or maps.\n",
    "\n",
    "To go through a notebook you can run cell by cell. The easiest way is to use a **keyboard shortcut** `[Ctrl] + [Enter]` on Windows, or `[Command] + [Enter]` on Mac.\n",
    "\n",
    "Some other useful shortcuts are as follows:\n",
    "- `[a]` for adding a cell above (make sure to press `[Esc]` first, or click on the left side outside of the text compartment of a cell first to exit the cell editing)\n",
    "- `[b]` add cell below (press `[Esc]` / click left of text compartment first)\n",
    "- `[d][d]` delete current cell"
   ]
  },
  {
   "cell_type": "markdown",
   "id": "e1a78f0f-ba12-451e-b1d3-4de766fa83fb",
   "metadata": {},
   "source": [
    "## Getting comfortable with JupyterLab\n",
    "\n",
    "Take a moment to look around the JupyterLab interface."
   ]
  },
  {
   "cell_type": "markdown",
   "id": "ac94fc31-1a64-480b-a8eb-806d0aaefa4e",
   "metadata": {},
   "source": [
    "## Python basics and variables"
   ]
  },
  {
   "cell_type": "code",
   "execution_count": null,
   "id": "da37cbea-7c2d-46ac-bbb7-ca89bce63caf",
   "metadata": {},
   "outputs": [],
   "source": [
    "# Comments, like this one, are preceded by a hash symbol. Comments are not executed."
   ]
  },
  {
   "cell_type": "code",
   "execution_count": null,
   "id": "9833ac8a-4417-48df-9406-6706b0a5dd05",
   "metadata": {},
   "outputs": [],
   "source": [
    "# We can use the print() function to display stuff on screen\n",
    "print('Hello World!)"
   ]
  },
  {
   "cell_type": "markdown",
   "id": "7e06ad55-b6ca-410a-b91f-875e72944d04",
   "metadata": {},
   "source": [
    "<span class='dothis'>...except there's something wrong with this line! Can you fix it?</span>"
   ]
  },
  {
   "cell_type": "code",
   "execution_count": null,
   "id": "298c4354-4b5b-4a47-b94c-e049d02196ef",
   "metadata": {},
   "outputs": [],
   "source": [
    "# Variables are used to store data. They may be text, numbers, datacubes...\n",
    "# This variable my_message is a string, composed of text characters\n",
    "my_message = 'This is a string'\n",
    "# But this variable, a_big_number, is an integer.\n",
    "a_big_number = 10000\n",
    "# Decimal ('float') numbers are also possible.\n",
    "another_number = 1.1\n",
    "\n",
    "# Use the print() command to display the contents of a variable\n",
    "print(my_message)\n",
    "print(a_big_number)"
   ]
  },
  {
   "cell_type": "code",
   "execution_count": null,
   "id": "bc32dec3-2a55-4781-a80b-dc6e8cff6bf1",
   "metadata": {},
   "outputs": [],
   "source": [
    "# In JupyterLab notebooks, we can also look at the contents of a variable\n",
    "# simply by typing its name in a cell then Shift+Enter:\n",
    "my_message"
   ]
  },
  {
   "cell_type": "code",
   "execution_count": null,
   "id": "5292fe24-b5d5-49f0-8d55-e5b7e1d35b57",
   "metadata": {},
   "outputs": [],
   "source": [
    "# If you try to do this multiple times in one cell, JupyterLab will just \n",
    "# show the contents of the last variable in the cell:\n",
    "my_message\n",
    "another_number"
   ]
  },
  {
   "cell_type": "code",
   "execution_count": null,
   "id": "db9b5580-0127-4cc5-b1e0-69ec038f8811",
   "metadata": {},
   "outputs": [],
   "source": [
    "# Variables can be added, subtracted, multiplied etc, e.g.\n",
    "a = 9\n",
    "b = 5\n",
    "c = a + b\n",
    "print(c)"
   ]
  },
  {
   "cell_type": "markdown",
   "id": "adcc5999-f6a8-423f-8cca-4d1ac9fc3d7d",
   "metadata": {},
   "source": [
    "We say we **assign** a `variable` if we define a value for it. The variable called `a` in the example above is assigned the number 9.\n",
    "\n",
    "The assignment comes through the `=` symbol. We read:<br>\n",
    "- var **is (defined/assigned by/through)** 9 <br> \n",
    "- <font col=red>We do not read **equal to**, which is used when testing if two values are the same. (This operation actually uses the operator `==`).</font>\n"
   ]
  },
  {
   "cell_type": "markdown",
   "id": "18337e54-1058-4003-9b1e-33e8f4d799a1",
   "metadata": {},
   "source": [
    "<span class='dothis'>Now create a new cell below and calculate what <em>b</em> divided by <em>a</em> is.</span>"
   ]
  },
  {
   "cell_type": "markdown",
   "id": "ab76f7f8-ce95-4a60-a4f8-dbb9b9573d91",
   "metadata": {},
   "source": [
    "## Basic data structures\n",
    "\n",
    "You'll see some of these appear in some of our later examples, so it is useful to be aware of them.\n",
    "\n",
    "As you will see, data structures are also assigned to variables!"
   ]
  },
  {
   "cell_type": "markdown",
   "id": "522c8cbd-013f-4b5d-b737-607eded8f27a",
   "metadata": {},
   "source": [
    "#### Lists"
   ]
  },
  {
   "cell_type": "code",
   "execution_count": null,
   "id": "e65c5c3e-06b1-4ecb-a9c2-5283852cea4e",
   "metadata": {},
   "outputs": [],
   "source": [
    "# Lists store several items together\n",
    "my_list_of_numbers = [1, 6, 9, 10]\n",
    "various_text = ['Geography', 'Geology', 'Philosophy']\n",
    "print('various_text, before changing:', various_text)\n",
    "\n",
    "# They can be changed, e.g.\n",
    "various_text.append('Chemistry')\n",
    "print('various_text, after changing:', various_text)"
   ]
  },
  {
   "cell_type": "markdown",
   "id": "1ebf4388-777b-4654-acdd-11ef3f037252",
   "metadata": {},
   "source": [
    "Because lists have multiple items in them, we want to be able to access individual items. Lists have an 'index'. In Python, the first item is at index 0, so the example below should return 'Geography' and then 'Philosophy':"
   ]
  },
  {
   "cell_type": "code",
   "execution_count": null,
   "id": "fa65e1a5-71fc-4ad7-8c2f-2c830732ae0f",
   "metadata": {},
   "outputs": [],
   "source": [
    "print(various_text[0])"
   ]
  },
  {
   "cell_type": "code",
   "execution_count": null,
   "id": "20268403-9a16-4190-88cf-c2fd1cad7b74",
   "metadata": {},
   "outputs": [],
   "source": [
    "print(various_text[2])"
   ]
  },
  {
   "cell_type": "markdown",
   "id": "81f94b1c-832c-4d96-b8fa-41e03125096a",
   "metadata": {},
   "source": [
    "<span class='dothis'>What item is at position 1?</span> Create a new cell below to answer this."
   ]
  },
  {
   "cell_type": "markdown",
   "id": "1e740094-0e03-48bd-a1ea-a8335265cabe",
   "metadata": {},
   "source": [
    "#### Tuples"
   ]
  },
  {
   "cell_type": "code",
   "execution_count": null,
   "id": "04e4f3fa-d7bb-44e0-809e-04502c8a389a",
   "metadata": {},
   "outputs": [],
   "source": [
    "# Tuples are like lists, but once created they cannot be changed\n",
    "# Note that they are made with round brackets, not square brackets.\n",
    "a_tuple = (8, 7, 1)\n",
    "print(a_tuple)"
   ]
  },
  {
   "cell_type": "code",
   "execution_count": null,
   "id": "378faf72-c528-451c-bdad-41aab3016a70",
   "metadata": {},
   "outputs": [],
   "source": [
    "# If we try to modify a tuple we will get an error\n",
    "a_tuple.append(1)"
   ]
  },
  {
   "cell_type": "code",
   "execution_count": null,
   "id": "1eaa00bf-a721-473d-b609-b99cbb984f7e",
   "metadata": {},
   "outputs": [],
   "source": [
    "# Indexing in tuples works the same way as lists\n",
    "print(a_tuple[1]) #This should display 7."
   ]
  },
  {
   "cell_type": "markdown",
   "id": "20c9c00f-e8be-48b3-be6a-058d126e11cd",
   "metadata": {},
   "source": [
    "#### Dictionaries"
   ]
  },
  {
   "cell_type": "code",
   "execution_count": null,
   "id": "e3b85bd2-499c-4ffb-a4fc-e4e755e8baa9",
   "metadata": {},
   "outputs": [],
   "source": [
    "# Dictionaries store information as \"key:data\" pairs\n",
    "phone_book = {\"John\": 123, \"Jane\": 234, \"Jerard\": 345}\n",
    "print(phone_book)\n",
    "\n",
    "# Add new item to the dictionary\n",
    "phone_book[\"Jill\"] = 345\n",
    "print(phone_book)"
   ]
  },
  {
   "cell_type": "markdown",
   "id": "dbd800d0-fce1-4cca-9ca4-3fb53fca0f86",
   "metadata": {},
   "source": [
    "Like with Lists, we have a way of retrieving items from Dictionaries. This time though, we get items according to their key:"
   ]
  },
  {
   "cell_type": "code",
   "execution_count": null,
   "id": "cd0de89d-ee27-45a7-85e6-0b0239863d56",
   "metadata": {},
   "outputs": [],
   "source": [
    "print(phone_book['Jerard'])"
   ]
  },
  {
   "cell_type": "markdown",
   "id": "2d377f1e-cb80-40b3-9a4c-92f8d4697ca6",
   "metadata": {},
   "source": [
    "<span class=\"dothis\">Create a cell below which returns John's phone number.</span>"
   ]
  },
  {
   "cell_type": "markdown",
   "id": "35803142-4ce1-439e-8cf4-6f7689854c6e",
   "metadata": {},
   "source": [
    "<span class=\"dothis\">Now, in another new cell, make a dictionary to store the favourite colours of the people in your group.</span>"
   ]
  },
  {
   "cell_type": "markdown",
   "id": "ddf76469-2ac0-425e-9e05-e6f8ad7c82b2",
   "metadata": {},
   "source": [
    "### Summary of variables\n",
    "Variables make programming easier. There are two major reasons to use variables:\n",
    "- Reduction of work - if we use a number or a string several times, we can use the variable instead of writing the actual number and text again and again\n",
    "- Simplicity - rather than writing a long number or text, the code will read easier if we use short variable names\n",
    "- If we use them to store our options then we can change the input easily at the beginning of a program\n",
    "\n",
    "Variables can be of different types. Here we have seen variables that represent strings, numbers, lists and dictionaries. We will store other types of data in variables later on.\n",
    "\n",
    "As we continue through the course it will become clear that the use of variables, instead of writing the values by hand, is a big help for us."
   ]
  },
  {
   "cell_type": "markdown",
   "id": "5ef4fbc4-e727-4f9f-a511-18154a341ec8",
   "metadata": {},
   "source": [
    "## Functions (`Def`initions)\n",
    "A function is a key element in writing programs. You can think of a function in a computing language in much the same way you think of a mathematical function. The function takes in arguments, performs some operation based on the identities of the arguments, and then returns a result."
   ]
  },
  {
   "cell_type": "code",
   "execution_count": null,
   "id": "982de4f3-d5cd-4e80-98a4-3b3aeed993f2",
   "metadata": {},
   "outputs": [],
   "source": [
    "# Function without argument or return value.\n",
    "def my_function():\n",
    "    print('Here is my function')\n",
    "my_function()"
   ]
  },
  {
   "cell_type": "code",
   "execution_count": null,
   "id": "7161fc3c-8811-4696-936b-532fcf635505",
   "metadata": {},
   "outputs": [],
   "source": [
    "# Function with one argument. It does not return the value.\n",
    "# x is a parameter\n",
    "def foo(x):\n",
    "    # We are using Python's \"f-string\" string formatting here.\n",
    "    # This requires the character f before the quotation marks.\n",
    "    # Then, the variable we want to print is enclosed in curly brackets {}.\n",
    "    print(f\"x = {x}\")\n",
    "\n",
    "# pass 5 to the function parameter. Here 5 is an arg.\n",
    "foo(5)"
   ]
  },
  {
   "cell_type": "code",
   "execution_count": null,
   "id": "e1b73f23-9040-4899-85d6-b2dd88a1e5c7",
   "metadata": {},
   "outputs": [],
   "source": [
    "# Function that returns sum of 2 input numbers\n",
    "# Both numbers must be provided\n",
    "def sum_two_numbers(a, b):\n",
    "    return a + b\n",
    "\n",
    "c = sum_two_numbers(3, 12)\n",
    "print(f\"c = {c}\")\n",
    "# Answer should be 15!"
   ]
  },
  {
   "cell_type": "code",
   "execution_count": null,
   "id": "627dcbba-0368-45ea-8673-b251dfd5c9ae",
   "metadata": {},
   "outputs": [],
   "source": [
    "# Function which returns data, has optional argument\n",
    "def multiply_by(a, b=2):\n",
    "    return a * b\n",
    "\n",
    "# single arg can be passed and will use default optional argument.\n",
    "print(multiply_by(3))\n",
    "\n",
    "# Or, specify the optional argument.\n",
    "print(multiply_by(3, b=47))\n",
    "\n",
    "\n",
    "# Note that if we do not provide the optional argument \"b\", it will have the standard value of 2."
   ]
  },
  {
   "cell_type": "code",
   "execution_count": null,
   "id": "c9445d9d-83c6-45dd-961f-eab91b3c46f9",
   "metadata": {},
   "outputs": [],
   "source": [
    "# Function which takes the contents of a list of numbers\n",
    "def print_item_in_list(a_list, position):\n",
    "    print(a_list[position])\n",
    "    \n",
    "mylist = ['blue', 'red', 'green']\n",
    "print_item_in_list(mylist, 0) # This should return 'blue'"
   ]
  },
  {
   "cell_type": "markdown",
   "id": "dd3b3ae6-8e59-477b-a49f-07061e984e14",
   "metadata": {},
   "source": [
    "<span class=\"dothis\">Create a function that has two required arguments and one optional argument. It must add the two required arguments together and then divide them by the optional argument. It must return the result.</span> Do this in a new cell."
   ]
  },
  {
   "cell_type": "markdown",
   "id": "615fa8bd-5c08-457f-9a2b-afac769fcb57",
   "metadata": {
    "tags": []
   },
   "source": [
    "## Accidentally overwriting named variables and functions"
   ]
  },
  {
   "cell_type": "markdown",
   "id": "7c082c60-26ea-4782-a996-e9d67156fe64",
   "metadata": {},
   "source": [
    "Take a look at the example below."
   ]
  },
  {
   "cell_type": "code",
   "execution_count": null,
   "id": "782a3718-5953-4751-8ce8-9c65271d3292",
   "metadata": {},
   "outputs": [],
   "source": [
    "# This function returns a and b as a List\n",
    "def c(a, b):\n",
    "    return [a, b]\n",
    "\n",
    "\n",
    "firstitem = \"apple\"\n",
    "seconditem = 3\n",
    "d = c(firstitem, seconditem)\n",
    "print(d)\n",
    "\n"
   ]
  },
  {
   "cell_type": "markdown",
   "id": "443ff452-10ef-4f47-9b64-f4f1427f04ad",
   "metadata": {},
   "source": [
    "That worked fine. We got a 2-item list back.\n",
    "Now let's \"accidentally\" re-assign the value of `c` to be a string."
   ]
  },
  {
   "cell_type": "code",
   "execution_count": null,
   "id": "9415a5c8-0665-4e06-a3c8-8ea97a65ee2f",
   "metadata": {},
   "outputs": [],
   "source": [
    "c = \"tomato\"\n",
    "d = c(firstitem, seconditem)\n",
    "print(d)"
   ]
  },
  {
   "cell_type": "markdown",
   "id": "5c4aae78-e06d-442b-b99d-f1441cb4e00a",
   "metadata": {},
   "source": [
    "Oops, we get a `TypeError`.. Now that `c='tomato'`, we have lost our original definition of c as a function from above."
   ]
  },
  {
   "cell_type": "markdown",
   "id": "a3261c81-3dcd-4af4-bf06-ae89e38e26d9",
   "metadata": {},
   "source": [
    "## BONUS: Loops and If statements\n",
    "\n",
    "You DO NOT need to know about Loops and If statements for this course. But if you already know about them, feel free to use them. If you think they would be useful to you then you are welcome to ask one of the teachers for more information during the project days, and/or to follow the links below for more information.\n",
    "\n",
    "For reference, we have included examples of these items below."
   ]
  },
  {
   "cell_type": "markdown",
   "id": "40644ef8-348d-4de9-bb51-2d175565ef22",
   "metadata": {
    "tags": []
   },
   "source": [
    "### Loops/iteration\n",
    "An example of iterating (*going through*) using a `for` statement. Other types of iteration are also possible. More information available at http://justinbois.github.io/bootcamp/2020_fsri/lessons/l06_iteration.html."
   ]
  },
  {
   "cell_type": "code",
   "execution_count": null,
   "id": "a1e8454e-784a-408c-9613-75787c9fe1fd",
   "metadata": {},
   "outputs": [],
   "source": [
    "# Loop through a list\n",
    "my_list_of_numbers = [1, 6, 9, 10]\n",
    "for n in my_list_of_numbers:\n",
    "    print(n)\n",
    "    "
   ]
  },
  {
   "cell_type": "markdown",
   "id": "fe787317-cf55-40c4-9351-53f8c328ef82",
   "metadata": {},
   "source": [
    "### If/conditional logic\n",
    "An example of conditional logic using an `if` statement. Other ways of specifying conditional logic are also possible. More information available at http://justinbois.github.io/bootcamp/2020_fsri/lessons/l04_more_operators_and_conditionals.html"
   ]
  },
  {
   "cell_type": "code",
   "execution_count": null,
   "id": "6529f41b-5502-4baa-b819-1cb4d5b59366",
   "metadata": {},
   "outputs": [],
   "source": [
    "# Check contents of variables with if statements\n",
    "name = \"John\"\n",
    "age = 17\n",
    "\n",
    "if name == \"John\" or age == 17:\n",
    "    print(f\"Name is {name}\")\n",
    "    print(f\"{name} is {age} years old\")"
   ]
  }
 ],
 "metadata": {
  "kernelspec": {
   "display_name": "Python 3 (ipykernel)",
   "language": "python",
   "name": "python3"
  },
  "language_info": {
   "codemirror_mode": {
    "name": "ipython",
    "version": 3
   },
   "file_extension": ".py",
   "mimetype": "text/x-python",
   "name": "python",
   "nbconvert_exporter": "python",
   "pygments_lexer": "ipython3",
   "version": "3.11.13"
  }
 },
 "nbformat": 4,
 "nbformat_minor": 5
}
