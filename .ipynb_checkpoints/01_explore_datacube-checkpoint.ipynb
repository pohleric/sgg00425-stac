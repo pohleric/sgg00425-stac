{
 "cells": [
  {
   "cell_type": "markdown",
   "id": "dee46a05-4cd4-4249-900f-b22fb199358f",
   "metadata": {},
   "source": [
    "# What datasets are available in the SDC?\n",
    "\n",
    "The SDC has changed their services in 2024. The SDC now provides a more data hosting-oriented service. It used to provide a processing (Jupyter Lab) environment facilitating viewing metadata. We still can extract some information easily about available datasets and available dates. Much more comprehensively, these information are provided on their website (https://explorer.swissdatacube.org/products). An extract of the datasets is provided in form of a table in the second code cell.\n",
    "\n",
    "This simple notebook shows still some still-exisitng functionality to get information on the exisitng datasets.\n",
    "\n",
    "You can copy/paste lines of code as needed to get the details that you are interested in."
   ]
  },
  {
   "cell_type": "code",
   "execution_count": null,
   "id": "c447e5d5-0133-4515-ac7e-acc63d014e6e",
   "metadata": {},
   "outputs": [],
   "source": [
    "%load_ext autoreload\n",
    "%autoreload 2\n",
    "\n",
    "import dask.distributed\n",
    "from pystac_client import Client\n",
    "import pandas as pd\n",
    "import warnings\n",
    "warnings.filterwarnings(\"ignore\", category=UserWarning, module=\"pystac_client\")"
   ]
  },
  {
   "cell_type": "code",
   "execution_count": null,
   "id": "72c6c397-ce78-4569-8de1-0c449ea211e2",
   "metadata": {},
   "outputs": [],
   "source": [
    "df = pd.read_csv(\"measurements_SwissDC.csv\")\n",
    "pd.set_option('display.max_rows', 140) #replace second number with the number of rows you want to see completely\n",
    "# df\n",
    "\n",
    "# or show for example only the results for landsat_etm_c2_l2\n",
    "# df.loc[df['product']==\"landsat_etm_c2_l2\"]\n",
    "df.loc[df['product']==\"landsat_ot_c2_l2\"]\n"
   ]
  },
  {
   "cell_type": "code",
   "execution_count": null,
   "id": "15a8b022-30fd-4e3a-a880-fe8c2720bb81",
   "metadata": {
    "scrolled": true
   },
   "outputs": [],
   "source": [
    "# Initiate Dask Env\n",
    "client = dask.distributed.Client()"
   ]
  },
  {
   "cell_type": "code",
   "execution_count": null,
   "id": "d78ce4d9-c8d6-42d6-9b5a-089f3a964ebe",
   "metadata": {},
   "outputs": [],
   "source": [
    "# This connects to the server and downloads a \"catalog\" tha contains some metadata\n",
    "catalog = Client.open(\"https://explorer.swissdatacube.org/stac\")\n"
   ]
  },
  {
   "cell_type": "code",
   "execution_count": null,
   "id": "88e69ca3-be74-4995-9724-bc056d622a73",
   "metadata": {},
   "outputs": [],
   "source": [
    "# Search the catalog for all available products\n",
    "collections = catalog.get_collections()\n",
    "\n",
    "# List the collections (products) available in the catalog\n",
    "product_names = [collection.id for collection in collections]\n",
    "# [print(pi,pd) for pi,pd in zip(product_names, product_descriptions)]\n",
    "[print(pi) for pi in product_names]"
   ]
  },
  {
   "cell_type": "code",
   "execution_count": null,
   "id": "ae3cee74-7164-427a-b092-982c0ca2e151",
   "metadata": {
    "scrolled": true
   },
   "outputs": [],
   "source": [
    "# Get the descriptions and print a full list\n",
    "\n",
    "for pi in product_names:\n",
    "    collection = catalog.get_collection(pi)\n",
    "    print(f\"{collection.id} - {collection.description}\")\n"
   ]
  },
  {
   "cell_type": "code",
   "execution_count": null,
   "id": "8e5f1f63-ee6b-4db1-ba1a-2b5c3cc220e4",
   "metadata": {},
   "outputs": [],
   "source": [
    "# Some information, e.g. the available dates, can be extracted from the filename information\n",
    "# Other, more detailed information are provided on the website of the SDC (https://explorer.swissdatacube.org/products)\n",
    "\n",
    "# Get the collection client\n",
    "collection = catalog.get_collection(\"landsat_ot_c2_l2\")\n",
    "\n",
    "# Initialize a list to hold the extracted values\n",
    "acquisition_dates = []\n",
    "\n",
    "# Iterate over the links\n",
    "for link in collection.links:\n",
    "    if link.rel == \"child\":  # Filter for links with the 'child' relationship\n",
    "        # Extract the last part of the href\n",
    "        last_part = link.href.split('/')[-1]  # Get the last segment\n",
    "        acquisition_dates.append(last_part)\n",
    "\n",
    "# Print the extracted acquisition dates\n",
    "print(\"Acquisition Dates:\", acquisition_dates)"
   ]
  },
  {
   "cell_type": "code",
   "execution_count": null,
   "id": "dee62e9b-cff8-4b0d-badf-3bdae624fc22",
   "metadata": {},
   "outputs": [],
   "source": [
    "client.close()"
   ]
  }
 ],
 "metadata": {
  "kernelspec": {
   "display_name": "Python 3 (ipykernel)",
   "language": "python",
   "name": "python3"
  },
  "language_info": {
   "codemirror_mode": {
    "name": "ipython",
    "version": 3
   },
   "file_extension": ".py",
   "mimetype": "text/x-python",
   "name": "python",
   "nbconvert_exporter": "python",
   "pygments_lexer": "ipython3",
   "version": "3.11.13"
  }
 },
 "nbformat": 4,
 "nbformat_minor": 5
}
